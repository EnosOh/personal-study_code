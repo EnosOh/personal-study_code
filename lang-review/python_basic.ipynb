{
 "cells": [
  {
   "cell_type": "markdown",
   "metadata": {},
   "source": [
    "\n",
    "<span style=\"color:blueviolet\"> **print** </span>"
   ]
  },
  {
   "cell_type": "code",
   "execution_count": 63,
   "metadata": {},
   "outputs": [
    {
     "name": "stdout",
     "output_type": "stream",
     "text": [
      "hellow world\n",
      "Hello, Alice. You are 25 years old.\n",
      "Hello, Alice. You are 25 years old.\n",
      "Hello, Alice. You are 25 years old.\n"
     ]
    }
   ],
   "source": [
    "print(\"hellow world\")\n",
    "\n",
    "#포멧팅 3가지 방식 \n",
    "# % 연산자 포맷팅\n",
    "name = \"Alice\"\n",
    "age = 25\n",
    "\n",
    "print(\"Hello, %s. You are %d years old.\" % (name, age))\n",
    "\n",
    "# str.format() 메서드\n",
    "\n",
    "print(\"Hello, {}. You are {} years old.\".format(name, age))\n",
    "\n",
    "# f-string 포맷팅 (파이썬 3.6+)\n",
    "print(f\"Hello, {name}. You are {age} years old.\")\n",
    "\n",
    "\n",
    "# ctrl + enter 현재 셀 실행\n",
    "# alt + enter 실행하고 밑에다가 새로 만듦\n",
    "# esc 하면 방향키 위아래 왔다갔다 a누르면 위에셀 만들기 b 하면 아래셀 만들기 엔터 치면 다시 코드 작성 모드 "
   ]
  },
  {
   "cell_type": "markdown",
   "metadata": {},
   "source": [
    "<span style=\"color:blueviolet\"> **마크다운** </span>\n",
    "\n",
    "# 큰 제목 \n",
    "## 그 다음으로 큰 제목 \n",
    "### **그그 다음으로 큰 제목 + 볼드**\n",
    "\n",
    "- 1\n",
    "    - 1-1\n",
    "    \n",
    "> ㅎㅎ\n",
    ">>ㅎㅎ\n",
    "\n",
    "$Y=AX+B$\n",
    "\n",
    "```python\n",
    "print(\"hellow\") \n",
    "```\n",
    "\n",
    "[강의 주소] (https://www.youtube.com/watch?v=k27DwgJ2KkA)\n"
   ]
  },
  {
   "cell_type": "markdown",
   "metadata": {},
   "source": [
    "<span style=\"color:blueviolet\"> **파이썬은 계산기다!** </span>"
   ]
  },
  {
   "cell_type": "code",
   "execution_count": 64,
   "metadata": {},
   "outputs": [
    {
     "data": {
      "text/plain": [
       "2"
      ]
     },
     "execution_count": 64,
     "metadata": {},
     "output_type": "execute_result"
    }
   ],
   "source": [
    "1+1\n"
   ]
  },
  {
   "cell_type": "code",
   "execution_count": 65,
   "metadata": {},
   "outputs": [
    {
     "data": {
      "text/plain": [
       "-2"
      ]
     },
     "execution_count": 65,
     "metadata": {},
     "output_type": "execute_result"
    }
   ],
   "source": [
    "3-5"
   ]
  },
  {
   "cell_type": "code",
   "execution_count": 66,
   "metadata": {},
   "outputs": [
    {
     "data": {
      "text/plain": [
       "2.5"
      ]
     },
     "execution_count": 66,
     "metadata": {},
     "output_type": "execute_result"
    }
   ],
   "source": [
    "5/2"
   ]
  },
  {
   "cell_type": "code",
   "execution_count": 67,
   "metadata": {},
   "outputs": [
    {
     "name": "stdout",
     "output_type": "stream",
     "text": [
      "<class 'int'>\n"
     ]
    },
    {
     "data": {
      "text/plain": [
       "float"
      ]
     },
     "execution_count": 67,
     "metadata": {},
     "output_type": "execute_result"
    }
   ],
   "source": [
    "print(type(2))\n",
    "type(2.0)"
   ]
  },
  {
   "cell_type": "code",
   "execution_count": 68,
   "metadata": {},
   "outputs": [
    {
     "data": {
      "text/plain": [
       "2"
      ]
     },
     "execution_count": 68,
     "metadata": {},
     "output_type": "execute_result"
    }
   ],
   "source": [
    "4//2 # 몫을 뱉어 주는 것! \n"
   ]
  },
  {
   "cell_type": "code",
   "execution_count": 69,
   "metadata": {},
   "outputs": [
    {
     "name": "stdout",
     "output_type": "stream",
     "text": [
      "3\n"
     ]
    },
    {
     "data": {
      "text/plain": [
       "2"
      ]
     },
     "execution_count": 69,
     "metadata": {},
     "output_type": "execute_result"
    }
   ],
   "source": [
    "print(int(3.9))\n",
    "int(5/2)"
   ]
  },
  {
   "cell_type": "code",
   "execution_count": 70,
   "metadata": {},
   "outputs": [
    {
     "data": {
      "text/plain": [
       "8"
      ]
     },
     "execution_count": 70,
     "metadata": {},
     "output_type": "execute_result"
    }
   ],
   "source": [
    "2**3 # power"
   ]
  },
  {
   "cell_type": "code",
   "execution_count": 71,
   "metadata": {},
   "outputs": [
    {
     "name": "stdout",
     "output_type": "stream",
     "text": [
      "3\n",
      "9\n",
      "17\n"
     ]
    }
   ],
   "source": [
    "print(0b011) #2진수\n",
    "print(0o011) #8진수\n",
    "print(0x011) #16진수"
   ]
  },
  {
   "cell_type": "markdown",
   "metadata": {},
   "source": [
    "<span style=\"color:blueviolet\"> **파이썬은 진화된 계산기다!** </span>"
   ]
  },
  {
   "cell_type": "code",
   "execution_count": 72,
   "metadata": {},
   "outputs": [
    {
     "data": {
      "text/plain": [
       "True"
      ]
     },
     "execution_count": 72,
     "metadata": {},
     "output_type": "execute_result"
    }
   ],
   "source": [
    "a=1\n",
    "a==1"
   ]
  },
  {
   "cell_type": "code",
   "execution_count": 73,
   "metadata": {},
   "outputs": [
    {
     "data": {
      "text/plain": [
       "False"
      ]
     },
     "execution_count": 73,
     "metadata": {},
     "output_type": "execute_result"
    }
   ],
   "source": [
    "a>3"
   ]
  },
  {
   "cell_type": "code",
   "execution_count": 74,
   "metadata": {},
   "outputs": [
    {
     "data": {
      "text/plain": [
       "False"
      ]
     },
     "execution_count": 74,
     "metadata": {},
     "output_type": "execute_result"
    }
   ],
   "source": [
    "\"python\" == \"Python\""
   ]
  },
  {
   "cell_type": "markdown",
   "metadata": {},
   "source": [
    "<span style=\"color:blueviolet\"> **리스트 : 여러 개를 한 변수에 넣을 순 없을까?** </span>"
   ]
  },
  {
   "cell_type": "code",
   "execution_count": 44,
   "metadata": {},
   "outputs": [
    {
     "name": "stdout",
     "output_type": "stream",
     "text": [
      "[1, 2, 3]\n"
     ]
    }
   ],
   "source": [
    "a=[1,2,3]\n",
    "print(a)\n"
   ]
  },
  {
   "cell_type": "code",
   "execution_count": 45,
   "metadata": {},
   "outputs": [
    {
     "name": "stdout",
     "output_type": "stream",
     "text": [
      "[1, 2, 3, 3, 4, 5]\n"
     ]
    }
   ],
   "source": [
    "b=[3,4,5]\n",
    "print(a+b)"
   ]
  },
  {
   "cell_type": "code",
   "execution_count": 46,
   "metadata": {},
   "outputs": [
    {
     "name": "stdout",
     "output_type": "stream",
     "text": [
      "[4, 'ㅋ', 6, 'h']\n"
     ]
    }
   ],
   "source": [
    "a=[4,'ㅋ',6,'h']\n",
    "print(a)"
   ]
  },
  {
   "cell_type": "code",
   "execution_count": 47,
   "metadata": {},
   "outputs": [
    {
     "name": "stdout",
     "output_type": "stream",
     "text": [
      "[4, 'ㅋ', 6, 'h', 3, 'raise']\n"
     ]
    }
   ],
   "source": [
    "a.append(3)\n",
    "a.append('raise')\n",
    "print(a)"
   ]
  },
  {
   "cell_type": "code",
   "execution_count": 48,
   "metadata": {},
   "outputs": [
    {
     "name": "stdout",
     "output_type": "stream",
     "text": [
      "[0, 4, 'ㅋ', 6, 'h', 3, 'raise']\n"
     ]
    }
   ],
   "source": [
    "a.insert(0,0)\n",
    "print(a)"
   ]
  },
  {
   "cell_type": "code",
   "execution_count": 49,
   "metadata": {},
   "outputs": [
    {
     "name": "stdout",
     "output_type": "stream",
     "text": [
      "[0, 4, 'ㅋ', 6, 'h', 3]\n"
     ]
    }
   ],
   "source": [
    "a.pop()\n",
    "print(a)"
   ]
  },
  {
   "cell_type": "code",
   "execution_count": 50,
   "metadata": {},
   "outputs": [
    {
     "name": "stdout",
     "output_type": "stream",
     "text": [
      "[0, 'ㅋ', 6, 'h', 3]\n"
     ]
    }
   ],
   "source": [
    "a.pop(1)\n",
    "print(a)"
   ]
  },
  {
   "cell_type": "code",
   "execution_count": 51,
   "metadata": {},
   "outputs": [
    {
     "name": "stdout",
     "output_type": "stream",
     "text": [
      "[0, 'ㅋ', 'h', 3]\n"
     ]
    }
   ],
   "source": [
    "#리스트에서 값이 x인 첫 번째 항목 제거\t\n",
    "a.remove(6)\n",
    "print(a)"
   ]
  },
  {
   "cell_type": "code",
   "execution_count": 52,
   "metadata": {},
   "outputs": [
    {
     "name": "stdout",
     "output_type": "stream",
     "text": [
      "1\n"
     ]
    }
   ],
   "source": [
    "#값 x의 첫 번째 위치 반환\n",
    "print(a.index('ㅋ'))"
   ]
  },
  {
   "cell_type": "code",
   "execution_count": 53,
   "metadata": {},
   "outputs": [
    {
     "name": "stdout",
     "output_type": "stream",
     "text": [
      "1\n"
     ]
    }
   ],
   "source": [
    "#값 x가 몇 번 나오는지 반환\n",
    "print(a.count(3))"
   ]
  },
  {
   "cell_type": "code",
   "execution_count": 55,
   "metadata": {},
   "outputs": [
    {
     "name": "stdout",
     "output_type": "stream",
     "text": [
      "[2, 4, 4, 8, 8, 9]\n"
     ]
    }
   ],
   "source": [
    "a = [2, 8, 4, 9, 4, 8]\n",
    "a.sort()  # a 리스트가 [2, 4, 4, 8, 8, 9]로 정렬됩니다.\n",
    "print(a)  # 정렬된"
   ]
  },
  {
   "cell_type": "code",
   "execution_count": 60,
   "metadata": {},
   "outputs": [
    {
     "name": "stdout",
     "output_type": "stream",
     "text": [
      "[2, 4, 4, 8, 8, 9]\n"
     ]
    }
   ],
   "source": [
    "b = a.copy()\n",
    "print(b)"
   ]
  },
  {
   "cell_type": "code",
   "execution_count": 61,
   "metadata": {},
   "outputs": [
    {
     "name": "stdout",
     "output_type": "stream",
     "text": [
      "[9, 8, 8, 4, 4, 2]\n"
     ]
    }
   ],
   "source": [
    "b.reverse()\n",
    "print(b)"
   ]
  },
  {
   "cell_type": "code",
   "execution_count": 64,
   "metadata": {},
   "outputs": [
    {
     "name": "stdout",
     "output_type": "stream",
     "text": [
      "6\n",
      "9\n",
      "35\n"
     ]
    }
   ],
   "source": [
    "print(len(b))\n",
    "print(max(b))\n",
    "print(sum(b))"
   ]
  },
  {
   "cell_type": "code",
   "execution_count": 65,
   "metadata": {},
   "outputs": [
    {
     "name": "stdout",
     "output_type": "stream",
     "text": [
      "[0, 1, 4, 9, 16]\n"
     ]
    }
   ],
   "source": [
    "squares = [x**2 for x in range(5)]\n",
    "print(squares)"
   ]
  },
  {
   "cell_type": "code",
   "execution_count": 79,
   "metadata": {},
   "outputs": [
    {
     "name": "stdout",
     "output_type": "stream",
     "text": [
      "[]\n"
     ]
    }
   ],
   "source": [
    "a=[]\n",
    "print(a)"
   ]
  },
  {
   "cell_type": "code",
   "execution_count": 80,
   "metadata": {},
   "outputs": [
    {
     "name": "stdout",
     "output_type": "stream",
     "text": [
      "[1]\n"
     ]
    }
   ],
   "source": [
    "a=a+[1]\n",
    "print(a)"
   ]
  },
  {
   "cell_type": "code",
   "execution_count": 81,
   "metadata": {},
   "outputs": [
    {
     "name": "stdout",
     "output_type": "stream",
     "text": [
      "[1, 0.5]\n"
     ]
    }
   ],
   "source": [
    "loss_histroy=[]\n",
    "loss = 1\n",
    "loss_histroy +=[loss]\n",
    "loss = 0.5\n",
    "loss_histroy +=[loss]\n",
    "print(loss_histroy)"
   ]
  },
  {
   "cell_type": "markdown",
   "metadata": {},
   "source": [
    "<span style=\"color:blueviolet\"> **RANGE** </span>"
   ]
  },
  {
   "cell_type": "code",
   "execution_count": 82,
   "metadata": {},
   "outputs": [
    {
     "data": {
      "text/plain": [
       "range(0, 10)"
      ]
     },
     "execution_count": 82,
     "metadata": {},
     "output_type": "execute_result"
    }
   ],
   "source": [
    "range(10)"
   ]
  },
  {
   "cell_type": "code",
   "execution_count": 83,
   "metadata": {},
   "outputs": [
    {
     "data": {
      "text/plain": [
       "[0, 1, 2, 3, 4, 5, 6, 7, 8, 9]"
      ]
     },
     "execution_count": 83,
     "metadata": {},
     "output_type": "execute_result"
    }
   ],
   "source": [
    "list(range(10)) # range를 리스트로 바꿔줌  "
   ]
  },
  {
   "cell_type": "code",
   "execution_count": 84,
   "metadata": {},
   "outputs": [
    {
     "name": "stdout",
     "output_type": "stream",
     "text": [
      "list b :[1, 2, 3, 4, 5, 6, 7, 8, 9, 10]\n",
      "list c : [1, 3, 5, 7, 9]\n"
     ]
    },
    {
     "data": {
      "text/plain": [
       "[10, 9, 8, 7, 6, 5, 4, 3, 2, 1]"
      ]
     },
     "execution_count": 84,
     "metadata": {},
     "output_type": "execute_result"
    }
   ],
   "source": [
    "b = list(range(1,11)) # 1 부터 11 미만까지\n",
    "print(f\"list b :{b}\")\n",
    "c = list(range(1,11,2)) # 2간격 \n",
    "print(f\"list c : {c}\")\n",
    "(list(range(10,0,-1)))"
   ]
  },
  {
   "cell_type": "markdown",
   "metadata": {},
   "source": [
    "<span style=\"color:blueviolet\"> **TUPLE** </span>"
   ]
  },
  {
   "cell_type": "code",
   "execution_count": 85,
   "metadata": {},
   "outputs": [
    {
     "name": "stdout",
     "output_type": "stream",
     "text": [
      "<class 'tuple'>\n",
      "<class 'list'>\n"
     ]
    }
   ],
   "source": [
    "a=(1,'z',3)\n",
    "b=[1,2,3]\n",
    "print(type(a))\n",
    "print(type(b))"
   ]
  },
  {
   "cell_type": "code",
   "execution_count": 86,
   "metadata": {},
   "outputs": [
    {
     "name": "stdout",
     "output_type": "stream",
     "text": [
      "(1, 2, 3, 4, 5, 6, 7, 8, 9, 10)\n"
     ]
    }
   ],
   "source": [
    "b=tuple(range(1,11))\n",
    "print(b)    "
   ]
  },
  {
   "cell_type": "markdown",
   "metadata": {},
   "source": [
    "<span style=\"color:blueviolet\"> **in** </span>"
   ]
  },
  {
   "cell_type": "code",
   "execution_count": 87,
   "metadata": {},
   "outputs": [
    {
     "name": "stdout",
     "output_type": "stream",
     "text": [
      "True\n",
      "False\n"
     ]
    }
   ],
   "source": [
    "a = tuple(range(1,10))\n",
    "print(3 in a)\n",
    "print(15 in a)"
   ]
  },
  {
   "cell_type": "markdown",
   "metadata": {},
   "source": [
    "<span style=\"color:blueviolet\"> **리스트 기본연산 & 인텍싱** </span>"
   ]
  },
  {
   "cell_type": "code",
   "execution_count": 88,
   "metadata": {},
   "outputs": [
    {
     "name": "stdout",
     "output_type": "stream",
     "text": [
      "[1, 2, 3]\n",
      "[1, 2, 3, 1, 2, 3]\n",
      "[1, 2, 3, 1, 2, 3, 1, 2, 3]\n",
      "[1, 2, 3, 1, 2, 3, 1, 2, 3]\n"
     ]
    }
   ],
   "source": [
    "a = [1,2,3]\n",
    "b = a+a\n",
    "c=a*3\n",
    "d=a*(int(12/4))\n",
    "\n",
    "print(a)\n",
    "print(b)\n",
    "print(c)\n",
    "print(d)"
   ]
  },
  {
   "cell_type": "code",
   "execution_count": 89,
   "metadata": {},
   "outputs": [
    {
     "name": "stdout",
     "output_type": "stream",
     "text": [
      "3\n"
     ]
    }
   ],
   "source": [
    "print(len(a))"
   ]
  },
  {
   "cell_type": "markdown",
   "metadata": {},
   "source": [
    "s=\"hellow\"\n",
    "ss = [\"hellow\"]\n",
    "print(type(ss))\n",
    "print(type(s))\n",
    "print(s)\n",
    "print(ss)\n",
    "print(len(s))\n",
    "print(len(ss))\n",
    "print(s[0])\n",
    "print(ss[0])"
   ]
  },
  {
   "cell_type": "code",
   "execution_count": 90,
   "metadata": {},
   "outputs": [
    {
     "name": "stdout",
     "output_type": "stream",
     "text": [
      "1 2\n",
      "5 4\n"
     ]
    }
   ],
   "source": [
    "a=[1,2,3,4,5]\n",
    "print(a[0],a[1])\n",
    "print(a[-1],a[-2])"
   ]
  },
  {
   "cell_type": "code",
   "execution_count": 91,
   "metadata": {},
   "outputs": [
    {
     "name": "stdout",
     "output_type": "stream",
     "text": [
      "0 2 4\n"
     ]
    }
   ],
   "source": [
    "r= range(0,10,2)\n",
    "print(r[0],r[1],r[2])"
   ]
  },
  {
   "cell_type": "code",
   "execution_count": 92,
   "metadata": {},
   "outputs": [
    {
     "name": "stdout",
     "output_type": "stream",
     "text": [
      "[10, 2, 3, 4, 5]\n"
     ]
    }
   ],
   "source": [
    "a[0] = 10\n",
    "print(a)"
   ]
  },
  {
   "cell_type": "code",
   "execution_count": 93,
   "metadata": {},
   "outputs": [],
   "source": [
    "# # 튜플은 변경불가\n",
    "# a = (1,2,3)\n",
    "# a[0] = 1"
   ]
  },
  {
   "cell_type": "markdown",
   "metadata": {},
   "source": [
    "<span style=\"color:blueviolet\"> **슬라이싱** </span>"
   ]
  },
  {
   "cell_type": "code",
   "execution_count": 94,
   "metadata": {},
   "outputs": [
    {
     "name": "stdout",
     "output_type": "stream",
     "text": [
      "[1, 2, 3]\n",
      "[4, 5, 6, 7, 8, 9]\n",
      "10\n",
      "[2, 4, 6]\n",
      "[1, 2, 3, 4, 5]\n"
     ]
    }
   ],
   "source": [
    "a=[1,2,3,4,5,6,7,8,9,10]\n",
    "b = a[0:3] # index 3미만 번지 까지  \n",
    "print(b)\n",
    "print(a[3:-1])\n",
    "print(a[-1])\n",
    "print(a[1:7:2])\n",
    "print(a[0:5])   "
   ]
  },
  {
   "cell_type": "code",
   "execution_count": 4,
   "metadata": {},
   "outputs": [
    {
     "ename": "NameError",
     "evalue": "name 'a' is not defined",
     "output_type": "error",
     "traceback": [
      "\u001b[1;31m---------------------------------------------------------------------------\u001b[0m",
      "\u001b[1;31mNameError\u001b[0m                                 Traceback (most recent call last)",
      "Cell \u001b[1;32mIn[4], line 1\u001b[0m\n\u001b[1;32m----> 1\u001b[0m \u001b[38;5;28;01mdel\u001b[39;00m \u001b[43ma\u001b[49m[\u001b[38;5;241m1\u001b[39m:\u001b[38;5;241m3\u001b[39m]\n\u001b[0;32m      2\u001b[0m \u001b[38;5;28mprint\u001b[39m(a)\n",
      "\u001b[1;31mNameError\u001b[0m: name 'a' is not defined"
     ]
    }
   ],
   "source": [
    "del a[1:3]\n",
    "print(a)"
   ]
  },
  {
   "cell_type": "markdown",
   "metadata": {},
   "source": [
    "<span style=\"color:blueviolet\"> **딕셔너리** </span>"
   ]
  },
  {
   "cell_type": "code",
   "execution_count": 10,
   "metadata": {},
   "outputs": [
    {
     "name": "stdout",
     "output_type": "stream",
     "text": [
      "{'a': [1, 2, 3, 4, 5], 'b': 2, 'c': 3}\n",
      "[1, 2, 3, 4, 5] 2\n",
      "3\n",
      "dict_keys(['a', 'b', 'c'])\n",
      "dict_values([[1, 2, 3, 4, 5], 2, 3])\n",
      "dict_items([('a', [1, 2, 3, 4, 5]), ('b', 2), ('c', 3)])\n"
     ]
    }
   ],
   "source": [
    "dic1 = {'a':[1,2,3,4,5],\"b\":2,\"c\":3}  # 키 : 값       <- 숫자 문자 모두 가능 \n",
    "print(dic1)\n",
    "print(dic1['a'],dic1[\"b\"])    \n",
    "print(len(dic1))\n",
    "print(dic1.keys())\n",
    "print(dic1.values())\n",
    "print(dic1.items())"
   ]
  },
  {
   "cell_type": "code",
   "execution_count": 97,
   "metadata": {},
   "outputs": [
    {
     "data": {
      "text/plain": [
       "{'a': 1, 'b': 2}"
      ]
     },
     "execution_count": 97,
     "metadata": {},
     "output_type": "execute_result"
    }
   ],
   "source": [
    "dict(zip([\"a\",\"b\"],[1,2]))"
   ]
  },
  {
   "cell_type": "code",
   "execution_count": 98,
   "metadata": {},
   "outputs": [
    {
     "data": {
      "text/plain": [
       "[('a', 1), ('b', 2)]"
      ]
     },
     "execution_count": 98,
     "metadata": {},
     "output_type": "execute_result"
    }
   ],
   "source": [
    "list(zip([\"a\",\"b\"],[1,2]))"
   ]
  },
  {
   "cell_type": "code",
   "execution_count": 99,
   "metadata": {},
   "outputs": [
    {
     "name": "stdout",
     "output_type": "stream",
     "text": [
      "{100: 1}\n",
      "<class 'dict'>\n",
      "<class 'dict'>\n",
      "{'a': 100, 'b': 2, 'c': 3}\n",
      "True\n",
      "False\n"
     ]
    }
   ],
   "source": [
    "dic1[\"a\"] = 100\n",
    "dic2 ={100:1}  \n",
    "print(dic2)\n",
    "print(type(dic1))\n",
    "print(type(dic2))\n",
    "print(dic1)\n",
    "print(\"a\" in dic1)\n",
    "print(100 in dic1)"
   ]
  },
  {
   "cell_type": "markdown",
   "metadata": {},
   "source": [
    "<span style=\"color:blueviolet\"> **조건문** </span>"
   ]
  },
  {
   "cell_type": "code",
   "execution_count": 100,
   "metadata": {},
   "outputs": [
    {
     "name": "stdout",
     "output_type": "stream",
     "text": [
      "10는 3보다 크다\n",
      "그렇군\n"
     ]
    }
   ],
   "source": [
    "a = 10\n",
    "\n",
    "if a>3:\n",
    "    print(f\"{a}는 3보다 크다\") \n",
    "    print(\"그렇군\")"
   ]
  },
  {
   "cell_type": "code",
   "execution_count": 101,
   "metadata": {},
   "outputs": [
    {
     "name": "stdout",
     "output_type": "stream",
     "text": [
      "10는 15보다 작다\n",
      "10는 10이다\n"
     ]
    }
   ],
   "source": [
    "if a<15:\n",
    "    print(f\"{a}는 15보다 작다\")\n",
    "    if a == 9:\n",
    "        print(f\"{a}는 9다\")\n",
    "    elif a== 10:\n",
    "        print(f\"{a}는 10이다\")"
   ]
  },
  {
   "cell_type": "code",
   "execution_count": 102,
   "metadata": {},
   "outputs": [
    {
     "name": "stdout",
     "output_type": "stream",
     "text": [
      "둘다 0보다 크지 않음\n"
     ]
    }
   ],
   "source": [
    "a=1\n",
    "b=0\n",
    "\n",
    "if a>0 and b>0:\n",
    "    print(\"둘다 0보다 큼\")\n",
    "else:\n",
    "    print(\"둘다 0보다 크지 않음\")"
   ]
  },
  {
   "cell_type": "code",
   "execution_count": 103,
   "metadata": {},
   "outputs": [
    {
     "name": "stdout",
     "output_type": "stream",
     "text": [
      "이게 되네\n"
     ]
    }
   ],
   "source": [
    "a = 10\n",
    "\n",
    "if 0<a<20:\n",
    "    print(\"이게 되네\")"
   ]
  },
  {
   "cell_type": "markdown",
   "metadata": {},
   "source": [
    "<span style=\"color:blueviolet\"> **반복문** </span>"
   ]
  },
  {
   "cell_type": "code",
   "execution_count": 104,
   "metadata": {},
   "outputs": [
    {
     "name": "stdout",
     "output_type": "stream",
     "text": [
      "0\n",
      "1\n",
      "2\n",
      "3\n",
      "4\n"
     ]
    }
   ],
   "source": [
    "for i in range(5):\n",
    "    print(i)"
   ]
  },
  {
   "cell_type": "code",
   "execution_count": 105,
   "metadata": {},
   "outputs": [
    {
     "name": "stdout",
     "output_type": "stream",
     "text": [
      "5\n",
      "7\n",
      "9\n",
      "11\n"
     ]
    }
   ],
   "source": [
    "for i in range(5,12,2):\n",
    "    print(i)"
   ]
  },
  {
   "cell_type": "code",
   "execution_count": 106,
   "metadata": {},
   "outputs": [
    {
     "name": "stdout",
     "output_type": "stream",
     "text": [
      "10\n",
      "6\n",
      "2\n"
     ]
    }
   ],
   "source": [
    "for i in range(10,0,-4):\n",
    "    print(i)"
   ]
  },
  {
   "cell_type": "code",
   "execution_count": 107,
   "metadata": {},
   "outputs": [
    {
     "data": {
      "text/plain": [
       "[9, 8, 7, 6, 5, 4, 3, 2, 1, 0]"
      ]
     },
     "execution_count": 107,
     "metadata": {},
     "output_type": "execute_result"
    }
   ],
   "source": [
    "list(reversed(range(10)))"
   ]
  },
  {
   "cell_type": "code",
   "execution_count": 108,
   "metadata": {},
   "outputs": [
    {
     "name": "stdout",
     "output_type": "stream",
     "text": [
      "1\n",
      "4\n",
      "8\n",
      "1\n",
      "4\n"
     ]
    }
   ],
   "source": [
    "a = [1,4,8,1,4]\n",
    "\n",
    "for i in a:\n",
    "    print(i)"
   ]
  },
  {
   "cell_type": "code",
   "execution_count": 109,
   "metadata": {},
   "outputs": [
    {
     "name": "stdout",
     "output_type": "stream",
     "text": [
      "0 0\n",
      "0 1\n",
      "0 2\n",
      "1 0\n",
      "1 1\n",
      "1 2\n",
      "2 0\n",
      "2 1\n",
      "2 2\n"
     ]
    }
   ],
   "source": [
    "for i in range(3):\n",
    "    for j in range(3):\n",
    "        print(i,j)"
   ]
  },
  {
   "cell_type": "code",
   "execution_count": 110,
   "metadata": {},
   "outputs": [
    {
     "name": "stdout",
     "output_type": "stream",
     "text": [
      "0\n",
      "1\n",
      "2\n"
     ]
    }
   ],
   "source": [
    "i=0\n",
    "while i<5:\n",
    "    print(i)\n",
    "    i=i+1\n",
    "    if i==3:\n",
    "        break"
   ]
  },
  {
   "cell_type": "code",
   "execution_count": 111,
   "metadata": {},
   "outputs": [
    {
     "name": "stdout",
     "output_type": "stream",
     "text": [
      "0\n",
      "1\n",
      "2\n",
      "3\n",
      "4\n",
      "5\n",
      "6\n",
      "7\n",
      "8\n",
      "9\n"
     ]
    }
   ],
   "source": [
    "EPOCH = 10\n",
    "for i in range(EPOCH):\n",
    "    print(i)"
   ]
  },
  {
   "cell_type": "code",
   "execution_count": 112,
   "metadata": {},
   "outputs": [
    {
     "name": "stdout",
     "output_type": "stream",
     "text": [
      "* \n",
      "* * \n",
      "* * * \n",
      "* * * * \n",
      "* \n",
      "* * \n",
      "* * * \n",
      "* * * * \n",
      "* \n",
      "* * \n",
      "* * * \n",
      "* * * * \n"
     ]
    }
   ],
   "source": [
    "for i in range(1,5):\n",
    "    for j in (range(i)):\n",
    "        print(\"* \",end = \"\")\n",
    "    print()\n",
    "\n",
    "b = \"\"\n",
    "for i in range (1,5):\n",
    "    b+='* '\n",
    "    print(b)\n",
    "\n",
    "for i in range(1,5):\n",
    "    print(\"* \"*i)"
   ]
  },
  {
   "cell_type": "code",
   "execution_count": 68,
   "metadata": {},
   "outputs": [
    {
     "name": "stdout",
     "output_type": "stream",
     "text": [
      "     \n",
      "    *\n",
      "   **\n",
      "  ***\n",
      " ****\n",
      "*****\n"
     ]
    }
   ],
   "source": [
    "n = int(input())\n",
    "for i in range(n+1):\n",
    "    star = '*' * i\n",
    "    space = ' ' * (5-i)\n",
    "    print(space + star)"
   ]
  },
  {
   "cell_type": "markdown",
   "metadata": {},
   "source": [
    "<span style=\"color:blueviolet\"> **리스트 심화** </span>"
   ]
  },
  {
   "cell_type": "code",
   "execution_count": 113,
   "metadata": {},
   "outputs": [
    {
     "name": "stdout",
     "output_type": "stream",
     "text": [
      "[1, 2, 3, 4] len of a :  4\n",
      "[1, 2, 3, 4] / len of a = 4\n"
     ]
    }
   ],
   "source": [
    "a = [1,2,3]\n",
    "a.append(4)\n",
    "print(a,\"len of a : \",len(a))\n",
    "print(f\"{a} / len of a = {len(a)}\")"
   ]
  },
  {
   "cell_type": "code",
   "execution_count": 114,
   "metadata": {},
   "outputs": [
    {
     "name": "stdout",
     "output_type": "stream",
     "text": [
      "[1, 2, 3, 4, [4, 5]]\n"
     ]
    }
   ],
   "source": [
    "a.append([4,5])\n",
    "print(a)"
   ]
  },
  {
   "cell_type": "code",
   "execution_count": 115,
   "metadata": {},
   "outputs": [
    {
     "name": "stdout",
     "output_type": "stream",
     "text": [
      "[1, 2, 3, 4, [4, 5], 4, 5]\n"
     ]
    }
   ],
   "source": [
    "a.extend([4,5])\n",
    "print(a)"
   ]
  },
  {
   "cell_type": "code",
   "execution_count": 116,
   "metadata": {},
   "outputs": [
    {
     "name": "stdout",
     "output_type": "stream",
     "text": [
      "[1, 2, 3, 4, [4, 5], 4, 5, 4, 5]\n"
     ]
    }
   ],
   "source": [
    "a+=[4,5]\n",
    "print(a)"
   ]
  },
  {
   "cell_type": "code",
   "execution_count": 117,
   "metadata": {},
   "outputs": [
    {
     "name": "stdout",
     "output_type": "stream",
     "text": [
      "[1, 2, 100, 3, 4, [4, 5], 4, 5, 4, 5]\n"
     ]
    }
   ],
   "source": [
    "a.insert(2,100)\n",
    "print(a)"
   ]
  },
  {
   "cell_type": "code",
   "execution_count": 118,
   "metadata": {},
   "outputs": [
    {
     "name": "stdout",
     "output_type": "stream",
     "text": [
      "[1, 2, 100, 3, 4, [4, 5], 4, 5, 4]\n"
     ]
    }
   ],
   "source": [
    "a.pop()\n",
    "print(a)"
   ]
  },
  {
   "cell_type": "code",
   "execution_count": 120,
   "metadata": {},
   "outputs": [
    {
     "data": {
      "text/plain": [
       "[1, 3, 4, [4, 5], 4, 5, 4]"
      ]
     },
     "execution_count": 120,
     "metadata": {},
     "output_type": "execute_result"
    }
   ],
   "source": [
    "a.pop(1)\n",
    "a"
   ]
  },
  {
   "cell_type": "code",
   "execution_count": 123,
   "metadata": {},
   "outputs": [
    {
     "name": "stdout",
     "output_type": "stream",
     "text": [
      "[1, [4, 5], 5, 4]\n",
      "[1, [4, 5], 5]\n"
     ]
    }
   ],
   "source": [
    "a.remove(4) \n",
    "print(a)\n",
    "a.remove(4) \n",
    "print(a)"
   ]
  },
  {
   "cell_type": "code",
   "execution_count": 124,
   "metadata": {},
   "outputs": [
    {
     "data": {
      "text/plain": [
       "2"
      ]
     },
     "execution_count": 124,
     "metadata": {},
     "output_type": "execute_result"
    }
   ],
   "source": [
    "a.index(5)"
   ]
  },
  {
   "cell_type": "code",
   "execution_count": 125,
   "metadata": {},
   "outputs": [
    {
     "data": {
      "text/plain": [
       "1"
      ]
     },
     "execution_count": 125,
     "metadata": {},
     "output_type": "execute_result"
    }
   ],
   "source": [
    "a.count(5)"
   ]
  },
  {
   "cell_type": "code",
   "execution_count": 127,
   "metadata": {},
   "outputs": [
    {
     "name": "stdout",
     "output_type": "stream",
     "text": [
      "[1, [4, 5], 5]\n"
     ]
    }
   ],
   "source": [
    "a.reverse()\n",
    "print(a)"
   ]
  },
  {
   "cell_type": "code",
   "execution_count": 130,
   "metadata": {},
   "outputs": [
    {
     "name": "stdout",
     "output_type": "stream",
     "text": [
      "[10, 7, 7, 4, 4, 4, 3, 1]\n"
     ]
    }
   ],
   "source": [
    "a=[1,4,7,4,4,7,10,3]\n",
    "a.sort(reverse=True)\n",
    "print(a)"
   ]
  },
  {
   "cell_type": "code",
   "execution_count": 132,
   "metadata": {},
   "outputs": [
    {
     "data": {
      "text/plain": [
       "[]"
      ]
     },
     "execution_count": 132,
     "metadata": {},
     "output_type": "execute_result"
    }
   ],
   "source": [
    "a.clear()\n",
    "a"
   ]
  },
  {
   "cell_type": "code",
   "execution_count": 133,
   "metadata": {},
   "outputs": [
    {
     "name": "stdout",
     "output_type": "stream",
     "text": [
      "a : [1, 10, 3] / b : [1, 10, 3]\n"
     ]
    }
   ],
   "source": [
    "a=[1,2,3]\n",
    "b=a\n",
    "b[1] = 10\n",
    "print(f\"a : {a} / b : {b}\")"
   ]
  },
  {
   "cell_type": "code",
   "execution_count": 134,
   "metadata": {},
   "outputs": [
    {
     "name": "stdout",
     "output_type": "stream",
     "text": [
      "a : [1, 2, 3] / b : [1, 10, 3]\n"
     ]
    }
   ],
   "source": [
    "a = [1,2,3] \n",
    "b = a.copy()\n",
    "b[1] = 10\n",
    "print(f\"a : {a} / b : {b}\")\n"
   ]
  },
  {
   "cell_type": "code",
   "execution_count": 137,
   "metadata": {},
   "outputs": [
    {
     "name": "stdout",
     "output_type": "stream",
     "text": [
      "1\n",
      "3\n",
      "6\n",
      "1.525\n"
     ]
    }
   ],
   "source": [
    "print(min(a))\n",
    "print(max(a))\n",
    "print(sum(a))\n",
    "print(round(1.52535352,3))"
   ]
  },
  {
   "cell_type": "markdown",
   "metadata": {},
   "source": [
    "<span style=\"color:blueviolet\"> **리스트 표현식** </span>"
   ]
  },
  {
   "cell_type": "code",
   "execution_count": 139,
   "metadata": {},
   "outputs": [
    {
     "name": "stdout",
     "output_type": "stream",
     "text": [
      "[0, 1, 2, 3, 4]\n"
     ]
    }
   ],
   "source": [
    "a=[i for i in range(5)] # range(5) 안의 각각의 값들을 i라는 이름으로 각각 불러오고 i 값으로 리스트를 형성\n",
    "print(a)"
   ]
  },
  {
   "cell_type": "code",
   "execution_count": 143,
   "metadata": {},
   "outputs": [
    {
     "name": "stdout",
     "output_type": "stream",
     "text": [
      "[5, 6, 7, 8, 9]\n"
     ]
    },
    {
     "data": {
      "text/plain": [
       "[1, 2, 3, 4, 5, 5]"
      ]
     },
     "execution_count": 143,
     "metadata": {},
     "output_type": "execute_result"
    }
   ],
   "source": [
    "a=[i+5 for i in range(5)] \n",
    "print(a)\n",
    "[1,2,3,4,5] + [5] # 리스트는 쌓는다는 개념 "
   ]
  },
  {
   "cell_type": "code",
   "execution_count": 145,
   "metadata": {},
   "outputs": [
    {
     "name": "stdout",
     "output_type": "stream",
     "text": [
      "[1, 4, 9, 16, 25]\n"
     ]
    }
   ],
   "source": [
    "a = [i**2 for i in range(1,6)]  \n",
    "print(a)"
   ]
  },
  {
   "cell_type": "code",
   "execution_count": 147,
   "metadata": {},
   "outputs": [
    {
     "name": "stdout",
     "output_type": "stream",
     "text": [
      "[0, -1, -2, -3, -4, 1, 0, -1, -2, -3, 2, 1, 0, -1, -2, 3, 2, 1, 0, -1, 4, 3, 2, 1, 0]\n"
     ]
    }
   ],
   "source": [
    "a = [i - j for i in range(1,6) for j in range(1,6)]\n",
    "print(a)"
   ]
  },
  {
   "cell_type": "code",
   "execution_count": 149,
   "metadata": {},
   "outputs": [
    {
     "name": "stdout",
     "output_type": "stream",
     "text": [
      "[0, 2, 4, 6, 8]\n"
     ]
    }
   ],
   "source": [
    "a = [i for i in range(10) if i%2 == 0 ]\n",
    "print(a)"
   ]
  },
  {
   "cell_type": "markdown",
   "metadata": {},
   "source": [
    "<span style=\"color:blueviolet\"> **리스트 속에 리스트** </span>"
   ]
  },
  {
   "cell_type": "code",
   "execution_count": 150,
   "metadata": {},
   "outputs": [
    {
     "name": "stdout",
     "output_type": "stream",
     "text": [
      "[[1, 2, 3], [4, 6]] 2\n"
     ]
    }
   ],
   "source": [
    "a = [[1,2,3],[4,6]]\n",
    "print(a,len(a))"
   ]
  },
  {
   "cell_type": "code",
   "execution_count": 152,
   "metadata": {},
   "outputs": [
    {
     "name": "stdout",
     "output_type": "stream",
     "text": [
      "[1, 2, 3]\n",
      "1\n"
     ]
    }
   ],
   "source": [
    "print(a[0])\n",
    "print(a[0][0])"
   ]
  },
  {
   "cell_type": "code",
   "execution_count": 154,
   "metadata": {},
   "outputs": [
    {
     "name": "stdout",
     "output_type": "stream",
     "text": [
      "[1, 2, 3]\n",
      "[4, 6]\n"
     ]
    }
   ],
   "source": [
    "for i in a:\n",
    "    print (i)\n"
   ]
  },
  {
   "cell_type": "code",
   "execution_count": 160,
   "metadata": {},
   "outputs": [
    {
     "name": "stdout",
     "output_type": "stream",
     "text": [
      "1 2\n",
      "3 4\n"
     ]
    }
   ],
   "source": [
    "a = [[1,2],[3,4]]\n",
    "for i,j in a:\n",
    "    print(i,j)"
   ]
  },
  {
   "cell_type": "code",
   "execution_count": 163,
   "metadata": {},
   "outputs": [
    {
     "name": "stdout",
     "output_type": "stream",
     "text": [
      "1 2 \n",
      "3 4 \n"
     ]
    }
   ],
   "source": [
    "for i in range(len(a)):\n",
    "    for j in range(len(a[i])):\n",
    "        print(a[i][j], end=\" \")\n",
    "    print()"
   ]
  },
  {
   "cell_type": "code",
   "execution_count": 168,
   "metadata": {},
   "outputs": [
    {
     "name": "stdout",
     "output_type": "stream",
     "text": [
      "[[0, 0, 0], [0], [0, 0, 0], [0, 0]]\n"
     ]
    }
   ],
   "source": [
    "a = [3,1,3,2]   \n",
    "result = []\n",
    "\n",
    "for i in a:\n",
    "    b = []\n",
    "    for j in range(i):\n",
    "        b+=[0]\n",
    "    result+=[b]\n",
    "print(result)"
   ]
  },
  {
   "cell_type": "code",
   "execution_count": null,
   "metadata": {},
   "outputs": [
    {
     "data": {
      "text/plain": [
       "[[0, 0, 0], [0], [0, 0, 0], [0, 0]]"
      ]
     },
     "execution_count": 180,
     "metadata": {},
     "output_type": "execute_result"
    }
   ],
   "source": [
    "result = [i*[0] for i in a]\n",
    "result"
   ]
  },
  {
   "cell_type": "code",
   "execution_count": 177,
   "metadata": {},
   "outputs": [
    {
     "data": {
      "text/plain": [
       "[[3, 1, 3, 2], [3, 1, 3, 2], [3, 1, 3, 2]]"
      ]
     },
     "execution_count": 177,
     "metadata": {},
     "output_type": "execute_result"
    }
   ],
   "source": [
    "[a] *3\n"
   ]
  },
  {
   "cell_type": "code",
   "execution_count": 6,
   "metadata": {},
   "outputs": [
    {
     "name": "stdout",
     "output_type": "stream",
     "text": [
      "[0, 0, 0, 1, 1, 1, 2, 2, 2]\n",
      "[[0, 2], [0, 2], [0, 2], [1, 2], [1, 2], [1, 2], [2, 2], [2, 2], [2, 2]]\n"
     ]
    }
   ],
   "source": [
    "print([i for i in range(3) for j in range(3)])\n",
    "\n",
    "a=[]\n",
    "\n",
    "for i in range(3):\n",
    "    for j in range(3):\n",
    "        a+=[[i,2]]\n",
    "print(a)\n"
   ]
  },
  {
   "cell_type": "markdown",
   "metadata": {},
   "source": [
    "<span style=\"color:blueviolet\"> **변수 목록 확인** </span>"
   ]
  },
  {
   "cell_type": "code",
   "execution_count": 16,
   "metadata": {},
   "outputs": [
    {
     "name": "stdout",
     "output_type": "stream",
     "text": [
      "Variable      Type             Data/Info\n",
      "----------------------------------------\n",
      "a             list             n=9\n",
      "f             TextIOWrapper    <_io.TextIOWrapper name='<...>ode='r' encoding='UTF-8'>\n",
      "forder_name   str              temp\n",
      "i             int              0\n",
      "j             int              2\n",
      "os            module           <module 'os' from 'c:\\\\Us<...>ytorch_Enos\\\\lib\\\\os.py'>\n",
      "s             str              temp test\\n\n"
     ]
    }
   ],
   "source": [
    "%whos"
   ]
  },
  {
   "cell_type": "markdown",
   "metadata": {},
   "source": [
    "<span style=\"color:blueviolet\"> **파일 입출력** </span>"
   ]
  },
  {
   "cell_type": "code",
   "execution_count": 18,
   "metadata": {},
   "outputs": [
    {
     "name": "stdout",
     "output_type": "stream",
     "text": [
      "temp test\n",
      "hihi\n",
      "<class 'str'>\n",
      "temp test\n",
      "\n"
     ]
    }
   ],
   "source": [
    "import os \n",
    "forder_name=\"temp\"\n",
    "if not os.path.exists(forder_name):\n",
    "    os.makedirs(forder_name)\n",
    "\n",
    "with open(\"temp/temp.txt\",\"w\") as f:  # 파일이 열린채로 fopen + fclose\n",
    "    f.write(\"temp test\\n\")\n",
    "    f.write(\"hihi\")\n",
    "\n",
    "with open(\"temp/temp.txt\",\"r\") as f:  # 파일이 열린채로 fopen + fclose\n",
    "    s=f.read()\n",
    "print(s)\n",
    "print(type(s))\n",
    "\n",
    "with open(\"temp/temp.txt\",\"r\") as f:  # 파일이 열린채로 fopen + fclose\n",
    "    for i in range(1):\n",
    "        s=f.readline()\n",
    "print(s)"
   ]
  },
  {
   "cell_type": "markdown",
   "metadata": {},
   "source": [
    "<span style=\"color:blueviolet\"> **함수** </span>"
   ]
  },
  {
   "cell_type": "code",
   "execution_count": 5,
   "metadata": {},
   "outputs": [
    {
     "name": "stdout",
     "output_type": "stream",
     "text": [
      "9\n"
     ]
    }
   ],
   "source": [
    "def f(x):\n",
    "    return x**2\n",
    "\n",
    "print(f(3))\n"
   ]
  },
  {
   "cell_type": "code",
   "execution_count": 7,
   "metadata": {},
   "outputs": [
    {
     "name": "stdout",
     "output_type": "stream",
     "text": [
      "hi hi hi\n",
      "None\n",
      "hi hi hi\n"
     ]
    }
   ],
   "source": [
    "def say():\n",
    "    print(\"hi hi hi\")\n",
    "\n",
    "print(say())\n",
    "say()"
   ]
  },
  {
   "cell_type": "code",
   "execution_count": 12,
   "metadata": {},
   "outputs": [
    {
     "name": "stdout",
     "output_type": "stream",
     "text": [
      "[5, 2, 3, 4]\n",
      "1\n"
     ]
    }
   ],
   "source": [
    "#내부에서 리스트 자체에 접근하면 (mutale 하면 속 값이 변해서 밖에서도 변해있음)\n",
    "def f(x):\n",
    "    x[0] = 5\n",
    "\n",
    "a = [1,2,3,4]\n",
    "f(a)\n",
    "print(a)\n",
    "\n",
    "\n",
    "# 위의 예제와 비교해보기 \n",
    "def change(x):\n",
    "    x = 3\n",
    "b = 1\n",
    "change(b)\n",
    "print(b)"
   ]
  },
  {
   "cell_type": "code",
   "execution_count": 19,
   "metadata": {},
   "outputs": [
    {
     "name": "stdout",
     "output_type": "stream",
     "text": [
      "(30, -10)\n",
      "30 -10\n",
      "(30, -10)\n"
     ]
    }
   ],
   "source": [
    "def add_sub(a,b):\n",
    "    c = a+b\n",
    "    d = a-b\n",
    "    return c,d\n",
    "x, y = add_sub(10,20)\n",
    "\n",
    "print(add_sub(10,20))\n",
    "print(x,y)\n",
    "\n",
    "x = add_sub(10,20)\n",
    "print(x)"
   ]
  },
  {
   "cell_type": "code",
   "execution_count": 26,
   "metadata": {},
   "outputs": [
    {
     "name": "stdout",
     "output_type": "stream",
     "text": [
      "add : 12\n",
      "mul : 20\n"
     ]
    }
   ],
   "source": [
    "def add(a,b):\n",
    "    return a+b\n",
    "def mul(a,b):\n",
    "    return a*b\n",
    "\n",
    "def show_result(a,b):\n",
    "    print(f\"add : {add(a,b)}\")\n",
    "    print(f\"mul : {mul(a,b)}\")\n",
    "\n",
    "show_result(10,2)\n"
   ]
  },
  {
   "cell_type": "code",
   "execution_count": 27,
   "metadata": {},
   "outputs": [
    {
     "name": "stdout",
     "output_type": "stream",
     "text": [
      "(10, 20)\n",
      "10 20\n",
      "add : 30\n",
      "mul : 200\n"
     ]
    }
   ],
   "source": [
    "x = (10,20)\n",
    "print(x)\n",
    "print(*x) # unpacking 포인터 아님 \n",
    "\n",
    "show_result(*x) # unpacking 한후에 넣어야 함 "
   ]
  },
  {
   "cell_type": "code",
   "execution_count": 28,
   "metadata": {},
   "outputs": [
    {
     "name": "stdout",
     "output_type": "stream",
     "text": [
      "(10, 20)\n",
      "<class 'tuple'>\n"
     ]
    }
   ],
   "source": [
    "x = 10 , 20\n",
    "print(x)\n",
    "print(type(x))  "
   ]
  },
  {
   "cell_type": "code",
   "execution_count": 36,
   "metadata": {},
   "outputs": [
    {
     "name": "stdout",
     "output_type": "stream",
     "text": [
      " a 에는 3가 들어있다.\n",
      " 타입은 <class 'int'>이다\n",
      "\n",
      " a 에는 (1, 2, 3, 4, 5)가 들어있다.\n",
      " 타입은 <class 'tuple'>이다\n",
      "1\n",
      "2\n",
      "3\n",
      "4\n",
      "5\n"
     ]
    }
   ],
   "source": [
    "def my_func1(a):\n",
    "    print(f\" a 에는 {a}가 들어있다.\\n 타입은 {type(a)}이다\")\n",
    "\n",
    "my_func1(3)  \n",
    "print()\n",
    "\n",
    "def my_func2(*args): # 튜플로 패킹\n",
    "    print(f\" a 에는 {args}가 들어있다.\\n 타입은 {type(args)}이다\")\n",
    "    for i in args:\n",
    "        print(i)\n",
    "\n",
    "my_func2(1,2,3,4,5)  "
   ]
  },
  {
   "cell_type": "code",
   "execution_count": 5,
   "metadata": {},
   "outputs": [
    {
     "name": "stdout",
     "output_type": "stream",
     "text": [
      "이름은 Enos이고 나이는 26살입니다. 사는데는 포항입니다 !!\n",
      "\n",
      "이름은 Enos이고 나이는 포항살입니다. 사는데는 26입니다 !!\n",
      "\n",
      "이름은 Enos이고 나이는 26살입니다. 사는데는 포항입니다 !!\n",
      "\n",
      "이름은 Enos이고 나이는 26살입니다. 사는데는 포항입니다 !!\n",
      "\n"
     ]
    }
   ],
   "source": [
    "def introduce(name,age,address):\n",
    "    print(f\"이름은 {name}이고 나이는 {age}살입니다. 사는데는 {address}입니다 !!\\n\")\n",
    "\n",
    "introduce(\"Enos\",26,\"포항\")\n",
    "introduce(\"Enos\",\"포항\",26)\n",
    "introduce(name = \"Enos\",address=\"포항\",age=26)\n",
    "\n",
    "\n",
    "name = \"Enos\"\n",
    "address=\"포항\"\n",
    "age = 26\n",
    "\n",
    "introduce(name=name,address=address,age=age)"
   ]
  },
  {
   "cell_type": "code",
   "execution_count": 69,
   "metadata": {},
   "outputs": [
    {
     "name": "stdout",
     "output_type": "stream",
     "text": [
      "이름은 Enos이고 나이는 26살입니다. 사는데는 '비밀'입니다 !!\n",
      "\n"
     ]
    }
   ],
   "source": [
    "def introduce1(name,age,address):\n",
    "    print(f\"이름은 {name}이고 나이는 {age}살입니다. 사는데는 {address}입니다 !!\\n\")\n",
    "\n",
    "def introduce2(name,age=\"비밀 ㅎ\",address=\"'비밀'\"):  # 디폴트값 정한 애들은 다 뒤로 몰아야 한다 (문법)\n",
    "    print(f\"이름은 {name}이고 나이는 {age}살입니다. 사는데는 {address}입니다 !!\\n\")\n",
    "\n",
    "# introduce1(name = \"Enos\",age=26) # 에러 address가 없어서 \n",
    "\n",
    "introduce2(name = \"Enos\",age=26)"
   ]
  },
  {
   "cell_type": "code",
   "execution_count": 21,
   "metadata": {},
   "outputs": [
    {
     "name": "stdout",
     "output_type": "stream",
     "text": [
      "{'name': '혁펜', 'age': 100, 'address': '한국'}\n",
      "name age address\n",
      "이름은 name이고 나이는 age살입니다. 사는데는 address입니다 !!\n",
      "\n",
      "{'name': '혁펜', 'age': 100, 'address': '한국'}\n",
      "이름은 혁펜이고 나이는 100살입니다. 사는데는 한국입니다 !!\n",
      "\n"
     ]
    }
   ],
   "source": [
    "d = {\"name\" : \"혁펜\",\"age\":100,\"address\":\"한국\"}\n",
    "print(d)\n",
    "print(*d)\n",
    "\n",
    "introduce(*d)\n",
    "print({**d})\n",
    "\n",
    "introduce(**d)\n"
   ]
  },
  {
   "cell_type": "code",
   "execution_count": 24,
   "metadata": {},
   "outputs": [
    {
     "name": "stdout",
     "output_type": "stream",
     "text": [
      "k에는 {'name': 'Enos'}가 들어가있고 타입은 <class 'dict'>이다! \n"
     ]
    }
   ],
   "source": [
    "def my_func(**kwargs): # kwargs : # keyward arguments\n",
    "    print(f\"k에는 {kwargs}가 들어가있고 타입은 {type(kwargs)}이다! \")\n",
    "\n",
    "my_func(name=\"Enos\")"
   ]
  },
  {
   "cell_type": "code",
   "execution_count": 70,
   "metadata": {},
   "outputs": [
    {
     "name": "stdout",
     "output_type": "stream",
     "text": [
      "{'name': 'Enos', 'age': 100}\n",
      "이름은 Enos 입니다\n",
      "나이는 100 입니다\n"
     ]
    }
   ],
   "source": [
    "def introduce3(**kwargs):   # 키워드 여려개 넘기고 싶을때 / defalt 값 지정 안해도 상관없음 \n",
    "    print(kwargs)\n",
    "    if \"name\" in kwargs:\n",
    "        print(\"이름은\", kwargs['name'], \"입니다\")\n",
    "    if \"age\" in kwargs:\n",
    "        print(f\"나이는 {kwargs['age']} 입니다\")\n",
    "    if \"address\" in kwargs:\n",
    "        print(f\"사는곳은 {kwargs['address']} 입니다\")\n",
    "\n",
    "introduce3(name=\"Enos\",age=100)\n",
    "\n",
    "#introduce3(d)"
   ]
  },
  {
   "cell_type": "code",
   "execution_count": 3,
   "metadata": {},
   "outputs": [
    {
     "name": "stdout",
     "output_type": "stream",
     "text": [
      "hi\n",
      "hi\n",
      "hi\n",
      "hi\n"
     ]
    }
   ],
   "source": [
    "# 재귀\n",
    "\n",
    "def say(count):\n",
    "    if count ==0:\n",
    "        return\n",
    "    print (\"hi\")\n",
    "    count-=1\n",
    "    return say(count)\n",
    "\n",
    "\n",
    "say(4)"
   ]
  },
  {
   "cell_type": "code",
   "execution_count": 5,
   "metadata": {},
   "outputs": [
    {
     "name": "stdout",
     "output_type": "stream",
     "text": [
      "120\n"
     ]
    }
   ],
   "source": [
    "def fac(n):\n",
    "    if n==1:\n",
    "        return 1 \n",
    "    return n * fac(n-1)\n",
    "\n",
    "print (fac(5))"
   ]
  },
  {
   "cell_type": "markdown",
   "metadata": {},
   "source": [
    "<span style=\"color:blueviolet\"> **로컬변수와 글로벌변수** </span>"
   ]
  },
  {
   "cell_type": "code",
   "execution_count": 1,
   "metadata": {},
   "outputs": [
    {
     "name": "stdout",
     "output_type": "stream",
     "text": [
      "30\n"
     ]
    }
   ],
   "source": [
    "EPOCH = 2 \n",
    "BATCH = 5 # 글로벌 변수 \n",
    "\n",
    "def train(weight): # weight 매개변수\n",
    "    x=2 # x는 로컬 변수 \n",
    "    return weight * 2 * BATCH\n",
    "\n",
    "print(train(3))\n",
    "\n"
   ]
  },
  {
   "cell_type": "code",
   "execution_count": 3,
   "metadata": {},
   "outputs": [
    {
     "name": "stdout",
     "output_type": "stream",
     "text": [
      "20\n",
      "20\n"
     ]
    }
   ],
   "source": [
    "def f():\n",
    "    global x\n",
    "    x = 20\n",
    "    print(x)\n",
    "\n",
    "f()\n",
    "\n",
    "print(x)"
   ]
  },
  {
   "cell_type": "code",
   "execution_count": 73,
   "metadata": {},
   "outputs": [
    {
     "name": "stdout",
     "output_type": "stream",
     "text": [
      "3\n"
     ]
    }
   ],
   "source": [
    "total = 0\n",
    "\n",
    "def sum(num1, num2):\n",
    "    global total   # 전역변수를 사용하겠다고 명시\n",
    "    total = num1 + num2\n",
    "\n",
    "a = 1\n",
    "b = 2\n",
    "\n",
    "sum(a, b)\n",
    "print(total)  # 출력: 3\n"
   ]
  },
  {
   "cell_type": "markdown",
   "metadata": {},
   "source": [
    "<span style=\"color:blueviolet\"> **람다 표현법** </span>"
   ]
  },
  {
   "cell_type": "code",
   "execution_count": 5,
   "metadata": {},
   "outputs": [
    {
     "name": "stdout",
     "output_type": "stream",
     "text": [
      "11\n"
     ]
    }
   ],
   "source": [
    "def plus_ten(x):\n",
    "    return x+10\n",
    "\n",
    "print(plus_ten(1))"
   ]
  },
  {
   "cell_type": "code",
   "execution_count": 6,
   "metadata": {},
   "outputs": [
    {
     "data": {
      "text/plain": [
       "20"
      ]
     },
     "execution_count": 6,
     "metadata": {},
     "output_type": "execute_result"
    }
   ],
   "source": [
    "plus_ten1 = lambda x:x+10    # 입력이 x, 출력이 x+10\n",
    "plus_ten1(10)"
   ]
  },
  {
   "cell_type": "code",
   "execution_count": 7,
   "metadata": {},
   "outputs": [
    {
     "data": {
      "text/plain": [
       "[11, 12, 13]"
      ]
     },
     "execution_count": 7,
     "metadata": {},
     "output_type": "execute_result"
    }
   ],
   "source": [
    "def plus_ten(x):\n",
    "    return x+10\n",
    "\n",
    "list(map(plus_ten,[1,2,3])) # map 이라는 녀석은 함수를 입력으로 받는 함수다. \n",
    "# 넣을 녀석들(list)을 넣어주면 여러번 call 해서 값을 얻는다.\n"
   ]
  },
  {
   "cell_type": "code",
   "execution_count": 8,
   "metadata": {},
   "outputs": [
    {
     "name": "stdout",
     "output_type": "stream",
     "text": [
      "[11, 12, 13]\n"
     ]
    }
   ],
   "source": [
    "print(list(map(lambda x:x+10,[1,2,3])))"
   ]
  },
  {
   "cell_type": "code",
   "execution_count": 10,
   "metadata": {},
   "outputs": [
    {
     "data": {
      "text/plain": [
       "30"
      ]
     },
     "execution_count": 10,
     "metadata": {},
     "output_type": "execute_result"
    }
   ],
   "source": [
    "f = lambda a,b:a+b\n",
    "\n",
    "f(10,20)"
   ]
  },
  {
   "cell_type": "code",
   "execution_count": 11,
   "metadata": {},
   "outputs": [
    {
     "data": {
      "text/plain": [
       "[5, 7, 9]"
      ]
     },
     "execution_count": 11,
     "metadata": {},
     "output_type": "execute_result"
    }
   ],
   "source": [
    "list(map(f,[1,2,3],[4,5,6]))"
   ]
  },
  {
   "cell_type": "code",
   "execution_count": 21,
   "metadata": {},
   "outputs": [
    {
     "name": "stdout",
     "output_type": "stream",
     "text": [
      "[1, 4, 3, 8]\n",
      "\n",
      "8\n"
     ]
    },
    {
     "data": {
      "text/plain": [
       "[1, 4, 3, 8]"
      ]
     },
     "execution_count": 21,
     "metadata": {},
     "output_type": "execute_result"
    }
   ],
   "source": [
    "def func(x):\n",
    "    if x%2 == 0:\n",
    "        return 2*x\n",
    "    else:\n",
    "        return x \n",
    "\n",
    "print(list(map(func,[1,2,3,4])))    \n",
    "\n",
    "f = lambda x : 2*x if x%2==0 else x\n",
    "\n",
    "print()\n",
    "print(f(4))\n",
    "\n",
    "list(map(f,[1,2,3,4]))"
   ]
  },
  {
   "cell_type": "markdown",
   "metadata": {},
   "source": [
    "<span style=\"color:blueviolet\"> **클래스** </span>"
   ]
  },
  {
   "cell_type": "code",
   "execution_count": null,
   "metadata": {},
   "outputs": [
    {
     "name": "stdout",
     "output_type": "stream",
     "text": [
      "hello\n",
      "<class '__main__.Robot'>\n"
     ]
    }
   ],
   "source": [
    "class Robot:\n",
    "    def greeting(self):     #메서드 (method) : 클래서 내부의 함수 첫번째 매개변수 무조건 self\n",
    "        print(\"hello\")\n",
    "\n",
    "    \n",
    "bot1 = Robot() # Robot이라는 클래스에 해당하는 instance 만들기 (실체화)\n",
    "bot1.greeting() # bot1이라는 이름의 인스턴스가 greeting이라는 이름의 method 실행 \n",
    "# greeting(bot1) -> 생략되어 들어감 \n",
    "\n",
    "print(type(bot1))\n",
    "\n",
    "\n"
   ]
  },
  {
   "cell_type": "code",
   "execution_count": 4,
   "metadata": {},
   "outputs": [
    {
     "name": "stdout",
     "output_type": "stream",
     "text": [
      "__init__ \n"
     ]
    }
   ],
   "source": [
    "class Robot:\n",
    "    def __init__(self):   #initialize 인스턴스 생성즉시 이함수로 들어옴 \n",
    "        print(\"__init__ \")\n",
    "\n",
    "bot1 = Robot()\n"
   ]
  },
  {
   "cell_type": "code",
   "execution_count": 14,
   "metadata": {},
   "outputs": [
    {
     "name": "stdout",
     "output_type": "stream",
     "text": [
      "Hellow\n",
      "[1, 2, 3]\n",
      "5\n",
      "[1, 2, 3, 4]\n"
     ]
    }
   ],
   "source": [
    "class Robot:\n",
    "    test = [1,2,3]\n",
    "    a=0\n",
    "    def __init__(self,a):   #initialize 인스턴스 생성즉시 이함수로 들어옴 \n",
    "        self.sentence = \"Hellow\"  #self.무엇 은 클래스 내부의 것 ( 변수 함수 ) 를 가르킨다. \n",
    "        self.a = a                    #클래스 내부의 변수는 속성이라고 한다. \n",
    " \n",
    "    def greeting(self):\n",
    "        print(self.sentence)\n",
    "    \n",
    "bot1 = Robot(5)\n",
    "bot1.greeting()\n",
    "\n",
    "print(bot1.test)\n",
    "print(bot1.a)\n",
    "\n",
    "bot1.test +=[4]\n",
    "print(bot1.test)\n",
    "\n"
   ]
  },
  {
   "cell_type": "code",
   "execution_count": 75,
   "metadata": {},
   "outputs": [
    {
     "name": "stdout",
     "output_type": "stream",
     "text": [
      "HI\n",
      "height :100\n",
      "HI\n",
      "height :10\n"
     ]
    }
   ],
   "source": [
    "class Robot:\n",
    "    def __init__(self,height,sentence):   #initialize 인스턴스 생성즉시 이함수로 들어옴 \n",
    "        self.sentence = sentence  #self.무엇 은 클래스 내부의 것 ( 변수 함수 ) 를 가르킨다. \n",
    "        self.height = height            #클래스 내부의 변수는 속성이라고 한다. \n",
    " \n",
    "    def greeting(self):\n",
    "        print(self.sentence)\n",
    "        print(f\"height :{self.height}\")\n",
    "\n",
    "bot1 = Robot(100,\"HI\")\n",
    "bot1.greeting()\n",
    "\n",
    "bot1.height = 10\n",
    "bot1.greeting()"
   ]
  },
  {
   "cell_type": "code",
   "execution_count": 22,
   "metadata": {},
   "outputs": [
    {
     "name": "stdout",
     "output_type": "stream",
     "text": [
      "HI\n",
      "height :100\n",
      "HI\n",
      "height :100\n",
      "HI\n",
      "height :10\n"
     ]
    }
   ],
   "source": [
    "class Robot:\n",
    "    def __init__(self,height,sentence):  \n",
    "        self.sentence = sentence \n",
    "        self.__height = height      # 비공개 속성 __하기 변수 앞에\n",
    " \n",
    "    def greeting(self):\n",
    "        print(self.sentence)\n",
    "        print(f\"height :{self.__height}\")\n",
    "    \n",
    "    def change_height(self,height):\n",
    "        self.__height = height\n",
    "\n",
    "\n",
    "\n",
    "bot1 = Robot(100,\"HI\")\n",
    "bot1.greeting()\n",
    "\n",
    "bot1.height = 10   # 안바뀜 내부 함수를 통해서만 바뀜\n",
    "bot1.greeting()\n",
    " # print(bot1.__height)  # 에러    내부 함수를 통해서만 출력 됨 \n",
    "\n",
    "bot1.change_height(10)  \n",
    "bot1.greeting()"
   ]
  },
  {
   "cell_type": "code",
   "execution_count": 23,
   "metadata": {},
   "outputs": [
    {
     "name": "stdout",
     "output_type": "stream",
     "text": [
      "열심!!!\n",
      "안녕하세요\n"
     ]
    }
   ],
   "source": [
    "# 상속 -> 효율화 \n",
    "class Robot:\n",
    "    def greeting(self):\n",
    "        print(\"안녕하세요\")\n",
    "\n",
    "class Study_bot(Robot):    # 자식 클래서 Robot 클래스를 상속 받음 -> robot이 가지는 메서드,속성 사용 가능 ! \n",
    "    def study(self):\n",
    "        print(\"열심!!!\")\n",
    "\n",
    "\n",
    "test_bot = Study_bot()\n",
    "\n",
    "test_bot.study()\n",
    "test_bot.greeting()"
   ]
  },
  {
   "cell_type": "code",
   "execution_count": 24,
   "metadata": {},
   "outputs": [
    {
     "name": "stdout",
     "output_type": "stream",
     "text": [
      "I'm study robot\n"
     ]
    }
   ],
   "source": [
    "# 메서드 오버라이딩\n",
    "\n",
    "class Robot:\n",
    "    def greeting(self):\n",
    "        print(\"Hellow\")\n",
    "\n",
    "class Study_bot(Robot):    # 자식 클래서 Robot 클래스를 상속 받음 -> robot이 가지는 메서드,속성 사용 가능 ! \n",
    "    def greeting(self):     # 부모의 greeting 물려 받았으나 여기서 다시 정의하면 덮어써버림 \n",
    "        print(\"I'm study robot\")\n",
    "\n",
    "test_bot=Study_bot()\n",
    "test_bot.greeting()"
   ]
  },
  {
   "cell_type": "code",
   "execution_count": 26,
   "metadata": {},
   "outputs": [
    {
     "name": "stdout",
     "output_type": "stream",
     "text": [
      "I'm Robot\n",
      "I'm study robot\n"
     ]
    }
   ],
   "source": [
    "# 메서드 오버라이딩\n",
    "\n",
    "class Robot:\n",
    "    def greeting(self):\n",
    "        print(\"I'm Robot\")\n",
    "\n",
    "class Study_bot(Robot):   \n",
    "    def greeting(self):     # 부모의 greeting 물려 받았으나 여기서 다시 정의하면 덮어써버림 \n",
    "        super().greeting()  # supers는 부모 클래서 \n",
    "        print(\"I'm study robot\")  # 부모의 원래기능은 유지 거기에 덧붙이고 싶을때 사용\n",
    "\n",
    "test_bot=Study_bot()\n",
    "test_bot.greeting()"
   ]
  },
  {
   "cell_type": "code",
   "execution_count": null,
   "metadata": {},
   "outputs": [],
   "source": []
  }
 ],
 "metadata": {
  "kernelspec": {
   "display_name": "enos_env",
   "language": "python",
   "name": "python3"
  },
  "language_info": {
   "codemirror_mode": {
    "name": "ipython",
    "version": 3
   },
   "file_extension": ".py",
   "mimetype": "text/x-python",
   "name": "python",
   "nbconvert_exporter": "python",
   "pygments_lexer": "ipython3",
   "version": "3.9.23"
  }
 },
 "nbformat": 4,
 "nbformat_minor": 2
}
