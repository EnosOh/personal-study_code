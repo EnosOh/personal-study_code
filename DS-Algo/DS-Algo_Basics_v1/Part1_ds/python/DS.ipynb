{
 "cells": [
  {
   "cell_type": "markdown",
   "id": "96a708bb",
   "metadata": {},
   "source": [
    "### <font color=\"#FFD700\">1. 스택 (Stack)</font>\n",
    "---\n",
    "> 주요연산 : push(e) , pop(), isEmpty(), isFull(), peek(), size()"
   ]
  },
  {
   "cell_type": "markdown",
   "id": "bd72f8be",
   "metadata": {
    "vscode": {
     "languageId": "plaintext"
    }
   },
   "source": [
    "##### <font color=\"#87CEEB\">1.1 배열 구조로 스택 구현하기(리스트 사용) </font>"
   ]
  },
  {
   "cell_type": "markdown",
   "id": "42a28226",
   "metadata": {
    "vscode": {
     "languageId": "plaintext"
    }
   },
   "source": [
    "<small>\n",
    "\n",
    "> 배열 구조(Array)  \n",
    ">- RAM에서 **연속된 주소**에 데이터가 저장됨.  \n",
    ">- CPU 캐시가 **프리패치(연속 접근 최적화)**로 빠르게 읽을 수 있음.  \n",
    ">- **단점**: 크기 변경이 어렵고, 재할당 시 전체 복사 필요.  \n",
    ">   <sub>※ 연속된 메모리 공간이 확보되지 않으면 `realloc`이 실패할 수 있음</sub>  \n",
    "\n",
    "> 연결리스트 구조(Linked List)  \n",
    ">- RAM에서 **비연속적인 주소**에 노드들이 흩어져 있음.  \n",
    ">- 각 노드는 **데이터 + 다음 노드 주소(포인터)**를 저장.  \n",
    ">- **장점**: 중간 삽입/삭제 및 크기 변경이 자유로움.  \n",
    ">- **단점**: CPU 캐시 효율이 낮고, 포인터 따라가며 접근해야 해서 느림.  \n",
    ">   <sub>※ 노드가 흩어져 있어 캐시 미스(cache miss) 확률이 높음</sub>  \n",
    "\n",
    "> CPU 캐시 관점  \n",
    ">- **배열**: 한 번 읽을 때 연속된 값들이 **캐시 라인**에 실려와서 접근 속도가 빠름.  \n",
    ">- **연결리스트**: 다음 노드가 메모리 여기저기에 있어 **캐시 미스(cache miss)** 확률이 높음.  \n"
   ]
  },
  {
   "cell_type": "code",
   "execution_count": null,
   "id": "1a9886bc",
   "metadata": {},
   "outputs": [],
   "source": [
    "capacity = 10\n",
    "array = [None] * capacity   \n",
    "top = -1"
   ]
  },
  {
   "cell_type": "code",
   "execution_count": null,
   "id": "c1027464",
   "metadata": {},
   "outputs": [],
   "source": [
    "def is_empty():\n",
    "    '''\n",
    "        ckeck if the stack is empty\n",
    "        \n",
    "        returns\n",
    "            bool : True if stack is emply , False otherwise\n",
    "    '''\n",
    "    if top == -1:\n",
    "        return True\n",
    "    else:\n",
    "        return False"
   ]
  },
  {
   "cell_type": "code",
   "execution_count": null,
   "id": "29dfd29b",
   "metadata": {},
   "outputs": [
    {
     "ename": "IndentationError",
     "evalue": "expected an indented block (3132550370.py, line 4)",
     "output_type": "error",
     "traceback": [
      "\u001b[0;36m  Cell \u001b[0;32mIn[8], line 4\u001b[0;36m\u001b[0m\n\u001b[0;31m    if top == capacity:\u001b[0m\n\u001b[0m                       ^\u001b[0m\n\u001b[0;31mIndentationError\u001b[0m\u001b[0;31m:\u001b[0m expected an indented block\n"
     ]
    }
   ],
   "source": [
    "def is_full():\n",
    "    '''\n",
    "        check if the stack if full\n",
    "\n",
    "        returns\n",
    "            bool : True if stack is full , otherwise False\n",
    "    '''\n",
    "    if top == capacity:\n",
    "        return True\n",
    "    else: return False"
   ]
  },
  {
   "cell_type": "code",
   "execution_count": null,
   "id": "e6ead158",
   "metadata": {},
   "outputs": [
    {
     "ename": "IndentationError",
     "evalue": "expected an indented block (3959841362.py, line 1)",
     "output_type": "error",
     "traceback": [
      "\u001b[0;36m  Cell \u001b[0;32mIn[7], line 1\u001b[0;36m\u001b[0m\n\u001b[0;31m    def push(e):\u001b[0m\n\u001b[0m                ^\u001b[0m\n\u001b[0;31mIndentationError\u001b[0m\u001b[0;31m:\u001b[0m expected an indented block\n"
     ]
    }
   ],
   "source": [
    "def push(e):\n",
    "    '''\n",
    "    '''\n",
    "\n"
   ]
  },
  {
   "cell_type": "code",
   "execution_count": null,
   "id": "0fa798e8",
   "metadata": {},
   "outputs": [],
   "source": []
  }
 ],
 "metadata": {
  "kernelspec": {
   "display_name": "enos_env",
   "language": "python",
   "name": "python3"
  },
  "language_info": {
   "codemirror_mode": {
    "name": "ipython",
    "version": 3
   },
   "file_extension": ".py",
   "mimetype": "text/x-python",
   "name": "python",
   "nbconvert_exporter": "python",
   "pygments_lexer": "ipython3",
   "version": "3.9.23"
  }
 },
 "nbformat": 4,
 "nbformat_minor": 5
}
