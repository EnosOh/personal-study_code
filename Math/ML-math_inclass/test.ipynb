{
 "cells": [
  {
   "cell_type": "code",
   "execution_count": 1,
   "id": "87fca0cb",
   "metadata": {},
   "outputs": [
    {
     "name": "stdout",
     "output_type": "stream",
     "text": [
      "해 x:\n",
      "[ 2.  3. -1.]\n"
     ]
    }
   ],
   "source": [
    "import numpy as np\n",
    "\n",
    "# 행렬 A (3x3) 정의\n",
    "A = np.array([\n",
    "    [2, 1, -1],\n",
    "    [-3, -1, 2],\n",
    "    [-2, 1, 2]\n",
    "])\n",
    "\n",
    "# 벡터 B 정의\n",
    "B = np.array([8, -11, -3])\n",
    "\n",
    "# 해 x 계산: x = A⁻¹B 또는 np.linalg.solve 사용\n",
    "x = np.linalg.solve(A, B)\n",
    "\n",
    "# 결과 출력\n",
    "print(\"해 x:\")\n",
    "print(x)\n"
   ]
  },
  {
   "cell_type": "code",
   "execution_count": 3,
   "id": "0fbb6f03",
   "metadata": {},
   "outputs": [
    {
     "name": "stdout",
     "output_type": "stream",
     "text": [
      "A_inv : [[ 4.  3. -1.]\n",
      " [-2. -2.  1.]\n",
      " [ 5.  4. -1.]]\n"
     ]
    }
   ],
   "source": [
    "A_inv = np.linalg.inv(A)\n",
    "print(f\"A_inv : {A_inv}\")"
   ]
  },
  {
   "cell_type": "code",
   "execution_count": 4,
   "id": "51bc0173",
   "metadata": {},
   "outputs": [
    {
     "name": "stdout",
     "output_type": "stream",
     "text": [
      "X = [ 2.  3. -1.]\n"
     ]
    }
   ],
   "source": [
    "X = A_inv @ B\n",
    "print(f\"X = {X}\")"
   ]
  },
  {
   "cell_type": "code",
   "execution_count": null,
   "id": "3fde8ef5",
   "metadata": {},
   "outputs": [],
   "source": []
  }
 ],
 "metadata": {
  "kernelspec": {
   "display_name": "base",
   "language": "python",
   "name": "python3"
  },
  "language_info": {
   "codemirror_mode": {
    "name": "ipython",
    "version": 3
   },
   "file_extension": ".py",
   "mimetype": "text/x-python",
   "name": "python",
   "nbconvert_exporter": "python",
   "pygments_lexer": "ipython3",
   "version": "3.11.5"
  }
 },
 "nbformat": 4,
 "nbformat_minor": 5
}
