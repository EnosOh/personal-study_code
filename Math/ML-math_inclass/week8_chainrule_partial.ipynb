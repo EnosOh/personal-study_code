{
 "cells": [
  {
   "cell_type": "code",
   "execution_count": 7,
   "id": "668de46f",
   "metadata": {},
   "outputs": [
    {
     "name": "stdout",
     "output_type": "stream",
     "text": [
      "📌 입력 함수:\n",
      "  f(x₁,…,xₙ) = exp(x1*x2**2)\n",
      "  x1(t)      = t*cos(t)\n",
      "  x2(t)      = t*sin(t)\n",
      "\n",
      "📌 편미분 ∂f/∂xᵢ:\n",
      "  ∂f/∂x1     = x2**2*exp(x1*x2**2)\n",
      "  ∂f/∂x2     = 2*x1*x2*exp(x1*x2**2)\n",
      "\n",
      "📌 dxᵢ/dt:\n",
      "  dx1/dt     = -t*sin(t) + cos(t)\n",
      "  dx2/dt     = t*cos(t) + sin(t)\n",
      "\n",
      "✅ 최종 dh/dt:\n",
      "  dh/dt = x2*(2*x1*(t*cos(t) + sin(t)) + x2*(-t*sin(t) + cos(t)))*exp(x1*x2**2)\n"
     ]
    },
    {
     "data": {
      "text/latex": [
       "$\\displaystyle x_{2} \\cdot \\left(2 x_{1} \\left(t \\cos{\\left(t \\right)} + \\sin{\\left(t \\right)}\\right) + x_{2} \\left(- t \\sin{\\left(t \\right)} + \\cos{\\left(t \\right)}\\right)\\right) e^{x_{1} x_{2}^{2}}$"
      ],
      "text/plain": [
       "x2*(2*x1*(t*cos(t) + sin(t)) + x2*(-t*sin(t) + cos(t)))*exp(x1*x2**2)"
      ]
     },
     "execution_count": 7,
     "metadata": {},
     "output_type": "execute_result"
    }
   ],
   "source": [
    "import sympy as sp\n",
    "\n",
    "def chain_rule_symbolic(f_expr, g_exprs, t):\n",
    "    \"\"\"\n",
    "    ∘ f_expr   : sympy.Expr, f(x1,...,xn) (x_i 기호로 정의)\n",
    "    ∘ g_exprs  : list[sympy.Expr], [x1(t), x2(t), ..., xn(t)]\n",
    "    ∘ t        : sympy.Symbol, 독립변수\n",
    "    → ∂f/∂xi (x_i), dx_i/dt (t), dh/dt를 모두 깔끔히 출력\n",
    "    \"\"\"\n",
    "    # 1) x1…xn 기호 자동 생성\n",
    "    n = len(g_exprs)\n",
    "    x_syms = sp.symbols(f'x1:{n+1}')   # (x1, x2, ..., xn)\n",
    "\n",
    "    # 2) ∂f/∂x_i\n",
    "    partials = [sp.diff(f_expr, xi) for xi in x_syms]\n",
    "\n",
    "    # 3) dx_i/dt\n",
    "    dx_dt = [sp.diff(g, t) for g in g_exprs]\n",
    "\n",
    "    # 4) dh/dt = Σ ∂f/∂x_i * dx_i/dt\n",
    "    dh_dt = sum(partials[i] * dx_dt[i] for i in range(n))\n",
    "    dh_dt = sp.simplify(dh_dt)\n",
    "\n",
    "    # —— 출력 —— #\n",
    "    print(\"📌 입력 함수:\")\n",
    "    print(\"  f(x₁,…,xₙ) =\", f_expr)\n",
    "    for i, gi in enumerate(g_exprs, 1):\n",
    "        print(f\"  x{i}(t)      =\", gi)\n",
    "\n",
    "    print(\"\\n📌 편미분 ∂f/∂xᵢ:\")\n",
    "    for i, pi in enumerate(partials, 1):\n",
    "        print(f\"  ∂f/∂x{i}     =\", pi)\n",
    "\n",
    "    print(\"\\n📌 dxᵢ/dt:\")\n",
    "    for i, di in enumerate(dx_dt, 1):\n",
    "        print(f\"  dx{i}/dt     =\", di)\n",
    "\n",
    "    print(\"\\n✅ 최종 dh/dt:\")\n",
    "    print(\"  dh/dt =\", dh_dt)\n",
    "\n",
    "    return dh_dt\n",
    "\n",
    "\n",
    "# — 사용 예시 — #\n",
    "t = sp.symbols('t')\n",
    "# g(t) 정의\n",
    "x1_t = t*sp.cos(t)\n",
    "x2_t = t*sp.sin(t)\n",
    "# f(x1,x2) = exp(x1 * x2**2)\n",
    "x1, x2 = sp.symbols('x1 x2')\n",
    "f = sp.exp(x1 * x2**2)\n",
    "\n",
    "chain_rule_symbolic(f_expr=f, g_exprs=[x1_t, x2_t], t=t)\n"
   ]
  },
  {
   "cell_type": "code",
   "execution_count": 11,
   "id": "fa4bdf36",
   "metadata": {},
   "outputs": [
    {
     "name": "stdout",
     "output_type": "stream",
     "text": [
      "📌 입력 함수:\n",
      "  f(x₁,…,xₙ) = x1**2 + 2*x2\n",
      "  x1(t)      = sin(t)\n",
      "  x2(t)      = cos(t)\n",
      "\n",
      "📌 편미분 ∂f/∂xᵢ:\n",
      "  ∂f/∂x1     = 2*x1\n",
      "  ∂f/∂x2     = 2\n",
      "\n",
      "📌 dxᵢ/dt:\n",
      "  dx1/dt     = cos(t)\n",
      "  dx2/dt     = -sin(t)\n",
      "\n",
      "✅ 최종 dh/dt:\n",
      "  dh/dt = 2*x1*cos(t) - 2*sin(t)\n"
     ]
    },
    {
     "data": {
      "text/latex": [
       "$\\displaystyle 2 x_{1} \\cos{\\left(t \\right)} - 2 \\sin{\\left(t \\right)}$"
      ],
      "text/plain": [
       "2*x1*cos(t) - 2*sin(t)"
      ]
     },
     "execution_count": 11,
     "metadata": {},
     "output_type": "execute_result"
    }
   ],
   "source": [
    "# — 사용 예시 — #\n",
    "t = sp.symbols('t')\n",
    "# g(t) 정의\n",
    "x1_t = sp.sin(t)\n",
    "x2_t = sp.cos(t)\n",
    "# f(x1,x2) = exp(x1 * x2**2)\n",
    "x1, x2 = sp.symbols('x1 x2')\n",
    "f = x1**2+(2*x2)\n",
    "\n",
    "chain_rule_symbolic(f_expr=f, g_exprs=[x1_t, x2_t], t=t)\n"
   ]
  },
  {
   "cell_type": "code",
   "execution_count": null,
   "id": "ffff7f09",
   "metadata": {},
   "outputs": [],
   "source": []
  }
 ],
 "metadata": {
  "kernelspec": {
   "display_name": "base",
   "language": "python",
   "name": "python3"
  },
  "language_info": {
   "codemirror_mode": {
    "name": "ipython",
    "version": 3
   },
   "file_extension": ".py",
   "mimetype": "text/x-python",
   "name": "python",
   "nbconvert_exporter": "python",
   "pygments_lexer": "ipython3",
   "version": "3.11.5"
  }
 },
 "nbformat": 4,
 "nbformat_minor": 5
}
