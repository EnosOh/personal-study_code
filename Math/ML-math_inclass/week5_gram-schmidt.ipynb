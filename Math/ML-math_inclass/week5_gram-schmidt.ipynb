{
 "cells": [
  {
   "cell_type": "code",
   "execution_count": 1,
   "metadata": {},
   "outputs": [
    {
     "name": "stdout",
     "output_type": "stream",
     "text": [
      "📌Orthonormal Basis:\n",
      "\n",
      "b1 =\n",
      "⎡√3⎤\n",
      "⎢──⎥\n",
      "⎢3 ⎥\n",
      "⎢  ⎥\n",
      "⎢√3⎥\n",
      "⎢──⎥\n",
      "⎢3 ⎥\n",
      "⎢  ⎥\n",
      "⎢√3⎥\n",
      "⎢──⎥\n",
      "⎣3 ⎦\n",
      "\n",
      "b2 =\n",
      "⎡-√6 ⎤\n",
      "⎢────⎥\n",
      "⎢ 6  ⎥\n",
      "⎢    ⎥\n",
      "⎢ √6 ⎥\n",
      "⎢ ── ⎥\n",
      "⎢ 3  ⎥\n",
      "⎢    ⎥\n",
      "⎢-√6 ⎥\n",
      "⎢────⎥\n",
      "⎣ 6  ⎦\n"
     ]
    }
   ],
   "source": [
    "import sympy as sp\n",
    "\n",
    "# 출력 포맷 예쁘게 (루트, 분수 등)\n",
    "sp.init_printing()\n",
    "\n",
    "def gram_schmidt_symbolic(vectors):\n",
    "    orthonormal_basis = []\n",
    "    \n",
    "    for v in vectors:\n",
    "        # 직교 성분 제거\n",
    "        for b in orthonormal_basis:\n",
    "            proj = (v.dot(b)) * b\n",
    "            v = v - proj\n",
    "        \n",
    "        # 정규화\n",
    "        norm = v.norm()\n",
    "        if norm != 0:\n",
    "            orthonormal_basis.append(v / norm)\n",
    "    \n",
    "    return orthonormal_basis\n",
    "\n",
    "# 입력 벡터: b̃₁ = [1, 1], b̃₂ = [1, 2]\n",
    "b1 = sp.Matrix([1,1,1])\n",
    "b2 = sp.Matrix([1,4,1])\n",
    "vectors = [b1, b2]\n",
    "\n",
    "# Gram-Schmidt 수행\n",
    "onb = gram_schmidt_symbolic(vectors)\n",
    "\n",
    "# 결과 출력\n",
    "print(\"📌Orthonormal Basis:\")\n",
    "for i, v in enumerate(onb):\n",
    "    print(f\"\\nb{i+1} =\")\n",
    "    sp.pprint(v)\n"
   ]
  },
  {
   "cell_type": "code",
   "execution_count": null,
   "metadata": {},
   "outputs": [],
   "source": []
  },
  {
   "cell_type": "code",
   "execution_count": null,
   "metadata": {},
   "outputs": [],
   "source": []
  }
 ],
 "metadata": {
  "kernelspec": {
   "display_name": "base",
   "language": "python",
   "name": "python3"
  },
  "language_info": {
   "codemirror_mode": {
    "name": "ipython",
    "version": 3
   },
   "file_extension": ".py",
   "mimetype": "text/x-python",
   "name": "python",
   "nbconvert_exporter": "python",
   "pygments_lexer": "ipython3",
   "version": "3.11.5"
  }
 },
 "nbformat": 4,
 "nbformat_minor": 2
}
