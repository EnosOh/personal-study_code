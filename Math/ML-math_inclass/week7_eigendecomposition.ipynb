{
 "cells": [
  {
   "cell_type": "code",
   "execution_count": 2,
   "id": "988ce5bd",
   "metadata": {},
   "outputs": [
    {
     "name": "stdout",
     "output_type": "stream",
     "text": [
      "A =\n",
      "Matrix([[2, 1], [1, 2]])\n",
      "\n",
      "Step 1: Compute eigenvalues (λ, descending):\n",
      "[3, 1]\n",
      "\n",
      "Step 2: Compute eigenvectors (corresponding to above λ):\n",
      "λ = 3,  vector = Matrix([[1], [1]])\n",
      "λ = 1,  vector = Matrix([[-1], [1]])\n",
      "\n",
      "Step 3: Check for existence of a full set of eigenvectors → True\n",
      "\n",
      "Step 4: Construct the matrix P (columns are eigenvectors in λ‑order):\n",
      "Matrix([[1, -1], [1, 1]])\n",
      "\n",
      "Step 5: Compute P⁻¹:\n",
      "Matrix([[1/2, 1/2], [-1/2, 1/2]])\n",
      "\n",
      "검산: P·D·P⁻¹ =\n",
      "Matrix([[2, 1], [1, 2]])\n"
     ]
    }
   ],
   "source": [
    "from sympy import Matrix, simplify, init_printing\n",
    "\n",
    "# 예쁜 수식 출력을 위해 설정\n",
    "init_printing()\n",
    "\n",
    "# A 정의\n",
    "A = Matrix([[2, 1],\n",
    "            [1, 2]])\n",
    "\n",
    "# Step 1: 고유값 계산 (내림차순)\n",
    "eig_data = A.eigenvects()  # [(λ, mult, [vecs]), ...]\n",
    "# 내림차순 정렬\n",
    "eig_data.sort(key=lambda x: x[0], reverse=True)\n",
    "eigenvals = [d[0] for d in eig_data]\n",
    "\n",
    "# Step 2: 고유벡터 꺼내기 (정규화 안 함)\n",
    "eigenvecs = [d[2][0] for d in eig_data]\n",
    "\n",
    "# Step 3: 대각화 가능 여부 확인\n",
    "total_mult = sum(d[1] for d in eig_data)\n",
    "diagonalizable = (total_mult == A.shape[0])\n",
    "\n",
    "# Step 4: P 구성\n",
    "P = Matrix.hstack(*eigenvecs)\n",
    "\n",
    "# Step 5: P⁻¹ 계산\n",
    "P_inv = simplify(P.inv())\n",
    "\n",
    "# 출력\n",
    "print(\"A =\")\n",
    "print(A)\n",
    "\n",
    "print(\"\\nStep 1: Compute eigenvalues (λ, descending):\")\n",
    "print(eigenvals)            # [3, 1]\n",
    "\n",
    "print(\"\\nStep 2: Compute eigenvectors (corresponding to above λ):\")\n",
    "for lam, vec in zip(eigenvals, eigenvecs):\n",
    "    print(f\"λ = {lam},  vector = {vec}\")\n",
    "\n",
    "print(f\"\\nStep 3: Check for existence of a full set of eigenvectors → {diagonalizable}\")\n",
    "\n",
    "print(\"\\nStep 4: Construct the matrix P (columns are eigenvectors in λ‑order):\")\n",
    "print(P)\n",
    "w\n",
    "print(\"\\nStep 5: Compute P⁻¹:\")\n",
    "print(P_inv)\n",
    "\n",
    "print(\"\\n검산: P·D·P⁻¹ =\")\n",
    "D = Matrix.diag(*eigenvals)\n",
    "print(simplify(P * D * P_inv))\n"
   ]
  },
  {
   "cell_type": "code",
   "execution_count": 3,
   "id": "4760d0d0",
   "metadata": {},
   "outputs": [
    {
     "name": "stdout",
     "output_type": "stream",
     "text": [
      "A =\n",
      "Matrix([[5, -2, 1], [-2, 1, 0], [1, 0, 1]])\n",
      "\n",
      "Step 1: Eigenvalues = {6: 1, 1: 1, 0: 1}\n",
      "\n",
      "Step 2: Eigenvectors =\n",
      "λ = 0, vector = Matrix([[-1], [-2], [1]])\n",
      "λ = 1, vector = Matrix([[0], [1/2], [1]])\n",
      "λ = 6, vector = Matrix([[5], [-2], [1]])\n"
     ]
    }
   ],
   "source": [
    "from sympy import Matrix, symbols, simplify, init_printing\n",
    "\n",
    "# 예쁜 수식 출력을 위해 설정\n",
    "init_printing()\n",
    "\n",
    "# Step 0: 행렬 A 정의\n",
    "A = Matrix([\n",
    "    [5, -2, 1],\n",
    "    [-2, 1, 0],\n",
    "    [1, 0, 1]\n",
    "])\n",
    "\n",
    "# Step 1: 고유값 계산\n",
    "eigenvals = A.eigenvals()  # 고유값과 중복도 출력\n",
    "\n",
    "# Step 2: 고유벡터 계산 (정규화 안 함)\n",
    "eigenvects = A.eigenvects()  # (eigenvalue, multiplicity, [eigenvector list])\n",
    "\n",
    "print(\"A =\")\n",
    "print(A)\n",
    "print(\"\\nStep 1: Eigenvalues =\", eigenvals)\n",
    "\n",
    "print(\"\\nStep 2: Eigenvectors =\")\n",
    "for val, mult, vects in eigenvects:\n",
    "    print(f\"λ = {val}, vector = {vects[0]}\")\n"
   ]
  },
  {
   "cell_type": "code",
   "execution_count": null,
   "id": "e7c6f22a",
   "metadata": {},
   "outputs": [],
   "source": []
  }
 ],
 "metadata": {
  "kernelspec": {
   "display_name": "base",
   "language": "python",
   "name": "python3"
  },
  "language_info": {
   "codemirror_mode": {
    "name": "ipython",
    "version": 3
   },
   "file_extension": ".py",
   "mimetype": "text/x-python",
   "name": "python",
   "nbconvert_exporter": "python",
   "pygments_lexer": "ipython3",
   "version": "3.9.19"
  }
 },
 "nbformat": 4,
 "nbformat_minor": 5
}
