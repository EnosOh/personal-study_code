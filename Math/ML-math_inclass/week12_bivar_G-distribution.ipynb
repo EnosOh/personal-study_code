{
 "cells": [
  {
   "cell_type": "code",
   "execution_count": 1,
   "id": "20ea07fc",
   "metadata": {},
   "outputs": [
    {
     "name": "stdout",
     "output_type": "stream",
     "text": [
      "Conditional Mean = 2.0\n",
      "Conditional Variance = 1.66666666666667\n",
      "\n",
      "Marginal Mean = 2\n",
      "Marginal Variance = 5\n"
     ]
    }
   ],
   "source": [
    "import sympy as sp\n",
    "\n",
    "# === 변수 정의 ===\n",
    "mu1, mu2 = 0, 2  # 평균\n",
    "sigma11, sigma22 = 0.3, 5  # 분산\n",
    "sigma12 = sigma21 = -1     # 공분산\n",
    "x1_val = 0                 # 조건부에서 x1 = 0\n",
    "\n",
    "# === 조건부 평균 계산 ===\n",
    "mu_cond = mu2 + sigma21 * (1 / sigma11) * (x1_val - mu1)\n",
    "\n",
    "# === 조건부 분산 계산 ===\n",
    "sigma_cond = sigma22 - sigma21 * (1 / sigma11) * sigma12\n",
    "\n",
    "# === 주변 분포 (x2의 평균과 분산) ===\n",
    "mu_marginal = mu2\n",
    "sigma_marginal = sigma22\n",
    "\n",
    "# === 결과 출력 ===\n",
    "sp.pprint(sp.Eq(sp.Symbol('Conditional Mean'), mu_cond))\n",
    "sp.pprint(sp.Eq(sp.Symbol('Conditional Variance'), sigma_cond))\n",
    "print()\n",
    "sp.pprint(sp.Eq(sp.Symbol('Marginal Mean'), mu_marginal))\n",
    "sp.pprint(sp.Eq(sp.Symbol('Marginal Variance'), sigma_marginal))\n"
   ]
  },
  {
   "cell_type": "code",
   "execution_count": null,
   "id": "c7a356eb",
   "metadata": {},
   "outputs": [],
   "source": []
  }
 ],
 "metadata": {
  "kernelspec": {
   "display_name": "base",
   "language": "python",
   "name": "python3"
  },
  "language_info": {
   "codemirror_mode": {
    "name": "ipython",
    "version": 3
   },
   "file_extension": ".py",
   "mimetype": "text/x-python",
   "name": "python",
   "nbconvert_exporter": "python",
   "pygments_lexer": "ipython3",
   "version": "3.11.5"
  }
 },
 "nbformat": 4,
 "nbformat_minor": 5
}
