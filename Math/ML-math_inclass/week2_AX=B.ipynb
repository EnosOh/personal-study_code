{
 "cells": [
  {
   "cell_type": "code",
   "execution_count": null,
   "id": "6f8aba98",
   "metadata": {},
   "outputs": [
    {
     "name": "stdout",
     "output_type": "stream",
     "text": [
      "Augmented matrix의 RREF:\n"
     ]
    },
    {
     "data": {
      "text/latex": [
       "$\\displaystyle \\left[\\begin{matrix}1 & 3 & 0 & -1 & -2\\\\0 & 0 & 1 & 1 & 1\\\\0 & 0 & 0 & 0 & 0\\end{matrix}\\right]$"
      ],
      "text/plain": [
       "⎡1  3  0  -1  -2⎤\n",
       "⎢               ⎥\n",
       "⎢0  0  1  1   1 ⎥\n",
       "⎢               ⎥\n",
       "⎣0  0  0  0   0 ⎦"
      ]
     },
     "metadata": {},
     "output_type": "display_data"
    },
    {
     "name": "stdout",
     "output_type": "stream",
     "text": [
      "\n",
      "특정해 Xp:\n"
     ]
    },
    {
     "data": {
      "text/latex": [
       "$\\displaystyle \\left[\\begin{matrix}-2\\\\0\\\\1\\\\0\\end{matrix}\\right]$"
      ],
      "text/plain": [
       "⎡-2⎤\n",
       "⎢  ⎥\n",
       "⎢0 ⎥\n",
       "⎢  ⎥\n",
       "⎢1 ⎥\n",
       "⎢  ⎥\n",
       "⎣0 ⎦"
      ]
     },
     "metadata": {},
     "output_type": "display_data"
    },
    {
     "name": "stdout",
     "output_type": "stream",
     "text": [
      "\n",
      "일반해 기저벡터들 Xh:\n",
      "  Xh_1:\n"
     ]
    },
    {
     "data": {
      "text/latex": [
       "$\\displaystyle \\left[\\begin{matrix}-3\\\\1\\\\0\\\\0\\end{matrix}\\right]$"
      ],
      "text/plain": [
       "⎡-3⎤\n",
       "⎢  ⎥\n",
       "⎢1 ⎥\n",
       "⎢  ⎥\n",
       "⎢0 ⎥\n",
       "⎢  ⎥\n",
       "⎣0 ⎦"
      ]
     },
     "metadata": {},
     "output_type": "display_data"
    },
    {
     "name": "stdout",
     "output_type": "stream",
     "text": [
      "  Xh_2:\n"
     ]
    },
    {
     "data": {
      "text/latex": [
       "$\\displaystyle \\left[\\begin{matrix}1\\\\0\\\\-1\\\\1\\end{matrix}\\right]$"
      ],
      "text/plain": [
       "⎡1 ⎤\n",
       "⎢  ⎥\n",
       "⎢0 ⎥\n",
       "⎢  ⎥\n",
       "⎢-1⎥\n",
       "⎢  ⎥\n",
       "⎣1 ⎦"
      ]
     },
     "metadata": {},
     "output_type": "display_data"
    },
    {
     "name": "stdout",
     "output_type": "stream",
     "text": [
      "\n",
      "최종해 X = Xp + Σ(params·Xh):\n"
     ]
    },
    {
     "data": {
      "text/latex": [
       "$\\displaystyle \\left[\\begin{matrix}- 3 \\tau_{0} + \\tau_{1} - 2\\\\\\tau_{0}\\\\1 - \\tau_{1}\\\\\\tau_{1}\\end{matrix}\\right]$"
      ],
      "text/plain": [
       "⎡-3⋅τ₀ + τ₁ - 2⎤\n",
       "⎢              ⎥\n",
       "⎢      τ₀      ⎥\n",
       "⎢              ⎥\n",
       "⎢    1 - τ₁    ⎥\n",
       "⎢              ⎥\n",
       "⎣      τ₁      ⎦"
      ]
     },
     "metadata": {},
     "output_type": "display_data"
    }
   ],
   "source": [
    "from sympy import Matrix, symbols, init_printing\n",
    "\n",
    "# 예쁜 LaTeX 스타일 출력\n",
    "init_printing()\n",
    "\n",
    "def solve_AxB_general(aug):\n",
    "    # 1) A, B 분리\n",
    "    A = aug[:, :-1]\n",
    "    B = aug[:, -1]\n",
    "\n",
    "    # 2) RREF 변환 & 출력\n",
    "    aug_rref, pivots = aug.rref()\n",
    "    print(\"Augmented matrix의 RREF:\")\n",
    "    display(aug_rref)\n",
    "\n",
    "    # 3) gauss_jordan_solve로 'sol'과 'params' 얻기\n",
    "    sol, params = A.gauss_jordan_solve(B)\n",
    "\n",
    "    # 4) 특정해 Xp: 모든 파라미터를 0으로\n",
    "    subs_zero = {p: 0 for p in params}\n",
    "    Xp = sol.subs(subs_zero)\n",
    "\n",
    "    # 5) 일반해 기저 벡터 리스트 Xh_list\n",
    "    Xh_list = []\n",
    "    for p in params:\n",
    "        # 이 파라미터만 1, 나머지는 0\n",
    "        subs_one = {q: (1 if q is p else 0) for q in params}\n",
    "        Xh_list.append(sol.subs(subs_one) - Xp)\n",
    "\n",
    "    return Xp, Xh_list, params\n",
    "\n",
    "# ────────────────────────────────────────────────────────────────\n",
    "# 예시: 3×4 A, 3×1 B인 확대행렬\n",
    "augmented = [\n",
    "    [1,2,3,6],\n",
    "    [2,4,6,12],\n",
    "    [4,5,6,15]\n",
    "]\n",
    "\n",
    "Xp, Xh_list, params = solve_AxB_general(augmented)\n",
    "\n",
    "# 6) 결과 출력\n",
    "print(\"\\n특정해 Xp:\")\n",
    "display(Xp)\n",
    "\n",
    "print(\"\\n일반해 기저벡터들 Xh:\")\n",
    "for i, vec in enumerate(Xh_list, 1):\n",
    "    print(f\"  Xh_{i}:\")\n",
    "    display(vec)\n",
    "\n",
    "# 7) 최종 해 (parametric form)\n",
    "expr = Xp\n",
    "for p, xh in zip(params, Xh_list):\n",
    "    expr = expr + p * xh\n",
    "\n",
    "print(\"\\n최종해 X = Xp + Σ(params·Xh):\")\n",
    "display(expr)\n"
   ]
  },
  {
   "cell_type": "code",
   "execution_count": 13,
   "id": "8524fda1",
   "metadata": {},
   "outputs": [
    {
     "name": "stdout",
     "output_type": "stream",
     "text": [
      "Augmented matrix의 RREF:\n"
     ]
    },
    {
     "data": {
      "text/latex": [
       "$\\displaystyle \\left[\\begin{matrix}1 & 0 & 0 & \\frac{11}{7} & - \\frac{22}{7}\\\\0 & 1 & 0 & -3 & 9\\\\0 & 0 & 1 & - \\frac{20}{7} & \\frac{40}{7}\\end{matrix}\\right]$"
      ],
      "text/plain": [
       "⎡1  0  0  11/7   -22/7⎤\n",
       "⎢                     ⎥\n",
       "⎢0  1  0   -3      9  ⎥\n",
       "⎢                     ⎥\n",
       "⎣0  0  1  -20/7  40/7 ⎦"
      ]
     },
     "metadata": {},
     "output_type": "display_data"
    },
    {
     "name": "stdout",
     "output_type": "stream",
     "text": [
      "\n",
      "특정해 Xp:\n"
     ]
    },
    {
     "data": {
      "text/latex": [
       "$\\displaystyle \\left[\\begin{matrix}- \\frac{22}{7}\\\\9\\\\\\frac{40}{7}\\\\0\\end{matrix}\\right]$"
      ],
      "text/plain": [
       "⎡-22/7⎤\n",
       "⎢     ⎥\n",
       "⎢  9  ⎥\n",
       "⎢     ⎥\n",
       "⎢40/7 ⎥\n",
       "⎢     ⎥\n",
       "⎣  0  ⎦"
      ]
     },
     "metadata": {},
     "output_type": "display_data"
    },
    {
     "name": "stdout",
     "output_type": "stream",
     "text": [
      "\n",
      "일반해 기저벡터들 Xh:\n",
      "  Xh_1:\n"
     ]
    },
    {
     "data": {
      "text/latex": [
       "$\\displaystyle \\left[\\begin{matrix}- \\frac{11}{7}\\\\3\\\\\\frac{20}{7}\\\\1\\end{matrix}\\right]$"
      ],
      "text/plain": [
       "⎡-11/7⎤\n",
       "⎢     ⎥\n",
       "⎢  3  ⎥\n",
       "⎢     ⎥\n",
       "⎢20/7 ⎥\n",
       "⎢     ⎥\n",
       "⎣  1  ⎦"
      ]
     },
     "metadata": {},
     "output_type": "display_data"
    },
    {
     "name": "stdout",
     "output_type": "stream",
     "text": [
      "\n",
      "최종해 X = Xp + Σ(params·Xh):\n"
     ]
    },
    {
     "data": {
      "text/latex": [
       "$\\displaystyle \\left[\\begin{matrix}- \\frac{11 \\tau_{0}}{7} - \\frac{22}{7}\\\\3 \\tau_{0} + 9\\\\\\frac{20 \\tau_{0}}{7} + \\frac{40}{7}\\\\\\tau_{0}\\end{matrix}\\right]$"
      ],
      "text/plain": [
       "⎡  11⋅τ₀   22⎤\n",
       "⎢- ───── - ──⎥\n",
       "⎢    7     7 ⎥\n",
       "⎢            ⎥\n",
       "⎢  3⋅τ₀ + 9  ⎥\n",
       "⎢            ⎥\n",
       "⎢ 20⋅τ₀   40 ⎥\n",
       "⎢ ───── + ── ⎥\n",
       "⎢   7     7  ⎥\n",
       "⎢            ⎥\n",
       "⎣     τ₀     ⎦"
      ]
     },
     "metadata": {},
     "output_type": "display_data"
    }
   ],
   "source": [
    "from sympy import Matrix, symbols, init_printing\n",
    "\n",
    "# 예쁜 LaTeX 스타일 출력\n",
    "init_printing()\n",
    "\n",
    "def solve_AxB_general(aug):\n",
    "    # 1) A, B 분리\n",
    "    A = aug[:, :-1]\n",
    "    B = aug[:, -1]\n",
    "\n",
    "    # 2) RREF 변환 & 출력\n",
    "    aug_rref, pivots = aug.rref()\n",
    "    print(\"Augmented matrix의 RREF:\")\n",
    "    display(aug_rref)\n",
    "\n",
    "    # 3) gauss_jordan_solve로 'sol'과 'params' 얻기\n",
    "    sol, params = A.gauss_jordan_solve(B)\n",
    "\n",
    "    # 4) 특정해 Xp: 모든 파라미터를 0으로\n",
    "    subs_zero = {p: 0 for p in params}\n",
    "    Xp = sol.subs(subs_zero)\n",
    "\n",
    "    # 5) 일반해 기저 벡터 리스트 Xh_list\n",
    "    Xh_list = []\n",
    "    for p in params:\n",
    "        # 이 파라미터만 1, 나머지는 0\n",
    "        subs_one = {q: (1 if q is p else 0) for q in params}\n",
    "        Xh_list.append(sol.subs(subs_one) - Xp)\n",
    "\n",
    "    return Xp, Xh_list, params\n",
    "\n",
    "# ────────────────────────────────────────────────────────────────\n",
    "# 예시: 3×4 A, 3×1 B인 확대행렬\n",
    "augmented = Matrix([\n",
    "    [ 2,  1, -1,  3,  -3],\n",
    "    [ 1, -2,  3, -1,  -4],\n",
    "    [ 3,  1,  2, -4,  11]\n",
    "])\n",
    "\n",
    "Xp, Xh_list, params = solve_AxB_general(augmented)\n",
    "\n",
    "# 6) 결과 출력\n",
    "print(\"\\n특정해 Xp:\")\n",
    "display(Xp)\n",
    "\n",
    "print(\"\\n일반해 기저벡터들 Xh:\")\n",
    "for i, vec in enumerate(Xh_list, 1):\n",
    "    print(f\"  Xh_{i}:\")\n",
    "    display(vec)\n",
    "\n",
    "# 7) 최종 해 (parametric form)\n",
    "expr = Xp\n",
    "for p, xh in zip(params, Xh_list):\n",
    "    expr = expr + p * xh\n",
    "\n",
    "print(\"\\n최종해 X = Xp + Σ(params·Xh):\")\n",
    "display(expr)\n"
   ]
  },
  {
   "cell_type": "code",
   "execution_count": null,
   "id": "4ed4d8ac",
   "metadata": {},
   "outputs": [],
   "source": []
  }
 ],
 "metadata": {
  "kernelspec": {
   "display_name": "base",
   "language": "python",
   "name": "python3"
  },
  "language_info": {
   "codemirror_mode": {
    "name": "ipython",
    "version": 3
   },
   "file_extension": ".py",
   "mimetype": "text/x-python",
   "name": "python",
   "nbconvert_exporter": "python",
   "pygments_lexer": "ipython3",
   "version": "3.11.5"
  }
 },
 "nbformat": 4,
 "nbformat_minor": 5
}
