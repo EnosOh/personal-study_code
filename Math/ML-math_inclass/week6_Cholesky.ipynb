{
 "cells": [
  {
   "cell_type": "code",
   "execution_count": 2,
   "metadata": {},
   "outputs": [
    {
     "name": "stdout",
     "output_type": "stream",
     "text": [
      "행렬 A:\n"
     ]
    },
    {
     "data": {
      "text/latex": [
       "$\\displaystyle \\left[\\begin{matrix}4 & 2\\\\2 & 3\\end{matrix}\\right]$"
      ],
      "text/plain": [
       "⎡4  2⎤\n",
       "⎢    ⎥\n",
       "⎣2  3⎦"
      ]
     },
     "metadata": {},
     "output_type": "display_data"
    },
    {
     "name": "stdout",
     "output_type": "stream",
     "text": [
      "\n",
      "하삼각 행렬 L (A = L·Lᵀ):\n"
     ]
    },
    {
     "data": {
      "text/latex": [
       "$\\displaystyle \\left[\\begin{matrix}2 & 0\\\\1 & \\sqrt{2}\\end{matrix}\\right]$"
      ],
      "text/plain": [
       "⎡2  0 ⎤\n",
       "⎢     ⎥\n",
       "⎣1  √2⎦"
      ]
     },
     "metadata": {},
     "output_type": "display_data"
    },
    {
     "name": "stdout",
     "output_type": "stream",
     "text": [
      "\n",
      "상삼각 행렬 U = Lᵀ:\n"
     ]
    },
    {
     "data": {
      "text/latex": [
       "$\\displaystyle \\left[\\begin{matrix}2 & 1\\\\0 & \\sqrt{2}\\end{matrix}\\right]$"
      ],
      "text/plain": [
       "⎡2  1 ⎤\n",
       "⎢     ⎥\n",
       "⎣0  √2⎦"
      ]
     },
     "metadata": {},
     "output_type": "display_data"
    },
    {
     "name": "stdout",
     "output_type": "stream",
     "text": [
      "\n",
      "L · Lᵀ:\n"
     ]
    },
    {
     "data": {
      "text/latex": [
       "$\\displaystyle \\left[\\begin{matrix}4 & 2\\\\2 & 3\\end{matrix}\\right]$"
      ],
      "text/plain": [
       "⎡4  2⎤\n",
       "⎢    ⎥\n",
       "⎣2  3⎦"
      ]
     },
     "metadata": {},
     "output_type": "display_data"
    },
    {
     "name": "stdout",
     "output_type": "stream",
     "text": [
      "\n",
      "Uᵀ · U:\n"
     ]
    },
    {
     "data": {
      "text/latex": [
       "$\\displaystyle \\left[\\begin{matrix}4 & 2\\\\2 & 3\\end{matrix}\\right]$"
      ],
      "text/plain": [
       "⎡4  2⎤\n",
       "⎢    ⎥\n",
       "⎣2  3⎦"
      ]
     },
     "metadata": {},
     "output_type": "display_data"
    },
    {
     "name": "stdout",
     "output_type": "stream",
     "text": [
      "\n",
      "A와 L·Lᵀ의 차이 (오차):\n"
     ]
    },
    {
     "data": {
      "text/latex": [
       "$\\displaystyle \\left[\\begin{matrix}0 & 0\\\\0 & 0\\end{matrix}\\right]$"
      ],
      "text/plain": [
       "⎡0  0⎤\n",
       "⎢    ⎥\n",
       "⎣0  0⎦"
      ]
     },
     "metadata": {},
     "output_type": "display_data"
    }
   ],
   "source": [
    "from sympy import Matrix, init_printing, simplify\n",
    "\n",
    "# 예쁜 LaTeX 스타일 출력\n",
    "init_printing()\n",
    "\n",
    "# 1) 예제 행렬 A 정의\n",
    "A = Matrix([\n",
    "    [4, 2],\n",
    "    [2, 3]\n",
    "])\n",
    "\n",
    "# 2) Cholesky 분해 (하삼각 행렬 L 반환)\n",
    "L = A.cholesky()\n",
    "\n",
    "# 3) 상삼각 행렬 U = L.T\n",
    "U = L.T\n",
    "\n",
    "# 4) 결과 출력\n",
    "print(\"행렬 A:\")\n",
    "display(A)\n",
    "\n",
    "print(\"\\n하삼각 행렬 L (A = L·Lᵀ):\")\n",
    "display(L)\n",
    "\n",
    "print(\"\\n상삼각 행렬 U = Lᵀ:\")\n",
    "display(U)\n",
    "\n",
    "print(\"\\nL · Lᵀ:\")\n",
    "display(L * L.T)\n",
    "\n",
    "print(\"\\nUᵀ · U:\")\n",
    "display(U.T * U)  # 대칭이므로 역시 A\n",
    "\n",
    "print(\"\\nA와 L·Lᵀ의 차이 (오차):\")\n",
    "display(simplify(A - L * L.T))\n"
   ]
  },
  {
   "cell_type": "code",
   "execution_count": null,
   "metadata": {},
   "outputs": [],
   "source": []
  }
 ],
 "metadata": {
  "kernelspec": {
   "display_name": "Enos",
   "language": "python",
   "name": "python3"
  },
  "language_info": {
   "codemirror_mode": {
    "name": "ipython",
    "version": 3
   },
   "file_extension": ".py",
   "mimetype": "text/x-python",
   "name": "python",
   "nbconvert_exporter": "python",
   "pygments_lexer": "ipython3",
   "version": "3.9.19"
  }
 },
 "nbformat": 4,
 "nbformat_minor": 2
}
