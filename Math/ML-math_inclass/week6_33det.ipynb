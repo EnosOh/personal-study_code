{
 "cells": [
  {
   "cell_type": "code",
   "execution_count": 3,
   "id": "f9c0e562",
   "metadata": {},
   "outputs": [
    {
     "name": "stdout",
     "output_type": "stream",
     "text": [
      "A_num =\n"
     ]
    },
    {
     "data": {
      "text/latex": [
       "$\\displaystyle \\left[\\begin{matrix}1 & 2 & 3\\\\3 & 1 & 2\\\\0 & 0 & 1\\end{matrix}\\right]$"
      ],
      "text/plain": [
       "⎡1  2  3⎤\n",
       "⎢       ⎥\n",
       "⎢3  1  2⎥\n",
       "⎢       ⎥\n",
       "⎣0  0  1⎦"
      ]
     },
     "metadata": {},
     "output_type": "display_data"
    },
    {
     "name": "stdout",
     "output_type": "stream",
     "text": [
      "det(A_num) = -5\n",
      "\n",
      "A_sym =\n"
     ]
    },
    {
     "data": {
      "text/latex": [
       "$\\displaystyle \\left[\\begin{matrix}a & b\\\\c & d\\end{matrix}\\right]$"
      ],
      "text/plain": [
       "⎡a  b⎤\n",
       "⎢    ⎥\n",
       "⎣c  d⎦"
      ]
     },
     "metadata": {},
     "output_type": "display_data"
    },
    {
     "name": "stdout",
     "output_type": "stream",
     "text": [
      "det(A_sym) = a*d - b*c\n"
     ]
    }
   ],
   "source": [
    "from sympy import Matrix, init_printing\n",
    "\n",
    "# 예쁜 LaTeX 스타일 출력\n",
    "init_printing()\n",
    "\n",
    "def determinant_sympy(A):\n",
    "    \"\"\"\n",
    "    A: list of lists 또는 Sympy Matrix\n",
    "    반환값: det(A)\n",
    "    \"\"\"\n",
    "    M = Matrix(A)\n",
    "    return M.det()\n",
    "\n",
    "# ────────────────────────────────────────────────────────────────\n",
    "# 사용 예시 1) 수치 행렬\n",
    "A_num = [\n",
    "    [1, 2, 3],\n",
    "    [3, 1, 2],\n",
    "    [0, 0, 1]\n",
    "]\n",
    "print(\"A_num =\")\n",
    "display(Matrix(A_num))\n",
    "print(\"det(A_num) =\", determinant_sympy(A_num))\n",
    "\n",
    "# ────────────────────────────────────────────────────────────────\n",
    "# 사용 예시 2) 기호(Symbolic) 행렬\n",
    "from sympy import symbols\n",
    "a, b, c, d = symbols('a b c d')\n",
    "A_sym = Matrix([[a, b], [c, d]])\n",
    "print(\"\\nA_sym =\")\n",
    "display(A_sym)\n",
    "print(\"det(A_sym) =\", determinant_sympy(A_sym))\n"
   ]
  },
  {
   "cell_type": "code",
   "execution_count": 5,
   "id": "4d720e9e",
   "metadata": {},
   "outputs": [
    {
     "name": "stdout",
     "output_type": "stream",
     "text": [
      "행렬식: -5\n"
     ]
    }
   ],
   "source": [
    "def determinant_3x3(matrix):\n",
    "    a, b, c = matrix[0]\n",
    "    d, e, f = matrix[1]\n",
    "    g, h, i = matrix[2]\n",
    "    \n",
    "    det = a * (e * i - f * h) - \\\n",
    "          b * (d * i - f * g) + \\\n",
    "          c * (d * h - e * g)\n",
    "    return det\n",
    "\n",
    "# 예시\n",
    "mat = [\n",
    "    [1, 2, 3],\n",
    "    [3, 1, 2],\n",
    "    [0, 0, 1]\n",
    "]\n",
    "\n",
    "\n",
    "print(\"행렬식:\", determinant_3x3(mat))  # 결과: 0\n"
   ]
  },
  {
   "cell_type": "code",
   "execution_count": null,
   "id": "f48a7d42",
   "metadata": {},
   "outputs": [],
   "source": []
  }
 ],
 "metadata": {
  "kernelspec": {
   "display_name": "base",
   "language": "python",
   "name": "python3"
  },
  "language_info": {
   "codemirror_mode": {
    "name": "ipython",
    "version": 3
   },
   "file_extension": ".py",
   "mimetype": "text/x-python",
   "name": "python",
   "nbconvert_exporter": "python",
   "pygments_lexer": "ipython3",
   "version": "3.9.19"
  }
 },
 "nbformat": 4,
 "nbformat_minor": 5
}
