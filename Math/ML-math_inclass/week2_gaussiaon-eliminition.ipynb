{
 "cells": [
  {
   "cell_type": "code",
   "execution_count": 2,
   "id": "13553fb8",
   "metadata": {},
   "outputs": [
    {
     "name": "stdout",
     "output_type": "stream",
     "text": [
      "Reduced Row Echelon Form (RREF, with fractions):\n"
     ]
    },
    {
     "data": {
      "text/latex": [
       "$\\displaystyle \\left[\\begin{matrix}1 & 0 & 0 & -4\\\\0 & 1 & 0 & 9\\\\0 & 0 & 1 & -7\\end{matrix}\\right]$"
      ],
      "text/plain": [
       "⎡1  0  0  -4⎤\n",
       "⎢           ⎥\n",
       "⎢0  1  0  9 ⎥\n",
       "⎢           ⎥\n",
       "⎣0  0  1  -7⎦"
      ]
     },
     "metadata": {},
     "output_type": "display_data"
    }
   ],
   "source": [
    "from sympy import Matrix, Rational, init_printing\n",
    "\n",
    "# 예쁜 수식 출력을 위해 설정\n",
    "init_printing()\n",
    "\n",
    "def rref_fraction(A):\n",
    "    A = Matrix(A).applyfunc(Rational)  # 모든 원소를 Rational로 변환\n",
    "    rref_matrix, _ = A.rref()  # sympy는 rref() 함수 내장!\n",
    "    return rref_matrix\n",
    "\n",
    "# 사용 예시\n",
    "A = [\n",
    "    [2, 1, -1, 8],\n",
    "    [-3, -1, 2, -11],\n",
    "    [-2, 1, 2, 3]\n",
    "]\n",
    "\n",
    "rref = rref_fraction(A)\n",
    "print(\"Reduced Row Echelon Form (RREF, with fractions):\")\n",
    "display(rref)\n"
   ]
  },
  {
   "cell_type": "code",
   "execution_count": 2,
   "id": "636f693c",
   "metadata": {},
   "outputs": [
    {
     "name": "stdout",
     "output_type": "stream",
     "text": [
      "Reduced Row Echelon Form (RREF, with fractions):\n"
     ]
    },
    {
     "data": {
      "text/latex": [
       "$\\displaystyle \\left[\\begin{matrix}1 & 0 & -1 & 0\\\\0 & 1 & 2 & 3\\\\0 & 0 & 0 & 0\\end{matrix}\\right]$"
      ],
      "text/plain": [
       "⎡1  0  -1  0⎤\n",
       "⎢           ⎥\n",
       "⎢0  1  2   3⎥\n",
       "⎢           ⎥\n",
       "⎣0  0  0   0⎦"
      ]
     },
     "metadata": {},
     "output_type": "display_data"
    }
   ],
   "source": [
    "from sympy import Matrix, Rational, init_printing\n",
    "\n",
    "# 예쁜 수식 출력을 위해 설정\n",
    "init_printing()\n",
    "\n",
    "def rref_fraction(A):\n",
    "    A = Matrix(A).applyfunc(Rational)  # 모든 원소를 Rational로 변환\n",
    "    rref_matrix, _ = A.rref()  # sympy는 rref() 함수 내장!\n",
    "    return rref_matrix\n",
    "\n",
    "# 사용 예시\n",
    "A = [\n",
    "    [1,2,3,6],\n",
    "    [2,4,6,12],\n",
    "    [4,5,6,15]\n",
    "]\n",
    "\n",
    "rref = rref_fraction(A)\n",
    "print(\"Reduced Row Echelon Form (RREF, with fractions):\")\n",
    "display(rref)\n"
   ]
  },
  {
   "cell_type": "code",
   "execution_count": null,
   "id": "be099783",
   "metadata": {},
   "outputs": [],
   "source": []
  }
 ],
 "metadata": {
  "kernelspec": {
   "display_name": "base",
   "language": "python",
   "name": "python3"
  },
  "language_info": {
   "codemirror_mode": {
    "name": "ipython",
    "version": 3
   },
   "file_extension": ".py",
   "mimetype": "text/x-python",
   "name": "python",
   "nbconvert_exporter": "python",
   "pygments_lexer": "ipython3",
   "version": "3.11.5"
  }
 },
 "nbformat": 4,
 "nbformat_minor": 5
}
