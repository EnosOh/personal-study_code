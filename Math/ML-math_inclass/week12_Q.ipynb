{
 "cells": [
  {
   "cell_type": "code",
   "execution_count": 1,
   "id": "65d3552c",
   "metadata": {},
   "outputs": [
    {
     "name": "stdout",
     "output_type": "stream",
     "text": [
      "X의 주변 확률분포 P(X): [0.3 0.4 0.3]\n",
      "Y의 주변 확률분포 P(Y): [0.25 0.4  0.35]\n",
      "-------------------------\n",
      "X의 기댓값 E[X]: 2.0\n",
      "Y의 기댓값 E[Y]: 2.1\n",
      "-------------------------\n",
      "곱의 기댓값 E[XY]: 4.3\n",
      "-------------------------\n",
      "공분산 Cov(X, Y) = 4.3 - (2.0 * 2.1) = 0.10\n"
     ]
    }
   ],
   "source": [
    "import numpy as np\n",
    "\n",
    "# 확률변수 X, Y가 가질 수 있는 값\n",
    "x_values = np.array([1, 2, 3])\n",
    "y_values = np.array([1, 2, 3])\n",
    "\n",
    "# 주어진 결합확률분포표\n",
    "# P_xy[i, j] = P(X = x_values[i], Y = y_values[j])\n",
    "P_xy = np.array([\n",
    "    [0.1, 0.1, 0.1],   # X=1일 때의 확률들\n",
    "    [0.1, 0.2, 0.1],   # X=2일 때의 확률들\n",
    "    [0.05, 0.1, 0.15]  # X=3일 때의 확률들\n",
    "])\n",
    "\n",
    "\n",
    "# ----------------------------------------------------\n",
    "# 1. 각 확률변수의 기댓값 계산 (E[X], E[Y])\n",
    "# ----------------------------------------------------\n",
    "\n",
    "# P(X): X의 주변 확률분포 (표의 각 행을 더함)\n",
    "P_x = P_xy.sum(axis=1)\n",
    "# E[X] = Σ [x * P(X=x)]\n",
    "E_x = np.sum(x_values * P_x)\n",
    "\n",
    "# P(Y): Y의 주변 확률분포 (표의 각 열을 더함)\n",
    "P_y = P_xy.sum(axis=0)\n",
    "# E[Y] = Σ [y * P(Y=y)]\n",
    "E_y = np.sum(y_values * P_y)\n",
    "\n",
    "print(f\"X의 주변 확률분포 P(X): {P_x}\")\n",
    "print(f\"Y의 주변 확률분포 P(Y): {P_y}\")\n",
    "print(\"-\" * 25)\n",
    "print(f\"X의 기댓값 E[X]: {E_x:.1f}\")\n",
    "print(f\"Y의 기댓값 E[Y]: {E_y:.1f}\")\n",
    "\n",
    "\n",
    "# ----------------------------------------------------\n",
    "# 2. 곱의 기댓값 계산 (E[XY])\n",
    "# ----------------------------------------------------\n",
    "\n",
    "# E[XY] = ΣΣ [x * y * P(X=x, Y=y)]\n",
    "# 모든 (x,y) 조합에 대해 계산\n",
    "E_xy = 0\n",
    "for i, x in enumerate(x_values):\n",
    "    for j, y in enumerate(y_values):\n",
    "        E_xy += x * y * P_xy[i, j]\n",
    "\n",
    "print(\"-\" * 25)\n",
    "print(f\"곱의 기댓값 E[XY]: {E_xy:.1f}\")\n",
    "\n",
    "\n",
    "# ----------------------------------------------------\n",
    "# 3. 공분산 계산: Cov(X, Y) = E[XY] - E[X]E[Y]\n",
    "# ----------------------------------------------------\n",
    "covariance = E_xy - (E_x * E_y)\n",
    "\n",
    "print(\"-\" * 25)\n",
    "print(f\"공분산 Cov(X, Y) = {E_xy:.1f} - ({E_x:.1f} * {E_y:.1f}) = {covariance:.2f}\")"
   ]
  },
  {
   "cell_type": "code",
   "execution_count": null,
   "id": "ded2b275",
   "metadata": {},
   "outputs": [],
   "source": []
  }
 ],
 "metadata": {
  "kernelspec": {
   "display_name": "base",
   "language": "python",
   "name": "python3"
  },
  "language_info": {
   "codemirror_mode": {
    "name": "ipython",
    "version": 3
   },
   "file_extension": ".py",
   "mimetype": "text/x-python",
   "name": "python",
   "nbconvert_exporter": "python",
   "pygments_lexer": "ipython3",
   "version": "3.11.5"
  }
 },
 "nbformat": 4,
 "nbformat_minor": 5
}
