{
 "cells": [
  {
   "cell_type": "code",
   "execution_count": 7,
   "metadata": {},
   "outputs": [],
   "source": [
    "import numpy as np\n",
    "\n",
    "def is_orthonormal_basis(vectors, tol=1e-10):\n",
    "    \"\"\"\n",
    "    vectors: list of np.ndarray (column vectors)\n",
    "    tol: 허용 오차 (부동소수점 오류 방지)\n",
    "    \"\"\"\n",
    "    n = len(vectors)\n",
    "    all_normalized = True\n",
    "    all_orthogonal = True\n",
    "\n",
    "    print(\"🔎 정규성 (Normalization) 검사:\")\n",
    "    for i, v in enumerate(vectors):\n",
    "        norm = np.linalg.norm(v)\n",
    "        if np.isclose(norm, 1.0, atol=tol):\n",
    "            print(f\"✅ Vector {i+1} is normalized: ||v|| = {norm:.6f}\")\n",
    "        else:\n",
    "            print(f\"❌ Vector {i+1} is NOT normalized: ||v|| = {norm:.6f}\")\n",
    "            all_normalized = False\n",
    "\n",
    "    print(\"\\n🔎 직교성 (Orthogonality) 검사:\")\n",
    "    for i in range(n):\n",
    "        for j in range(i + 1, n):\n",
    "            dot = np.dot(vectors[i].flatten(), vectors[j].flatten())\n",
    "            if np.isclose(dot, 0.0, atol=tol):\n",
    "                print(f\"✅ Vectors {i+1} and {j+1} are orthogonal: dot = {dot:.6f}\")\n",
    "            else:\n",
    "                print(f\"❌ Vectors {i+1} and {j+1} are NOT orthogonal: dot = {dot:.6f}\")\n",
    "                all_orthogonal = False\n",
    "\n",
    "    print(\"\\n📌 최종 결과:\")\n",
    "    if all_normalized and all_orthogonal:\n",
    "        print(\"✅ All vectors form an orthonormal basis.\")\n",
    "        return True\n",
    "    else:\n",
    "        print(\"❌ The vectors do NOT form an orthonormal basis.\")\n",
    "        return False\n"
   ]
  },
  {
   "cell_type": "code",
   "execution_count": 9,
   "metadata": {},
   "outputs": [
    {
     "name": "stdout",
     "output_type": "stream",
     "text": [
      "🔎 정규성 (Normalization) 검사:\n",
      "❌ Vector 1 is NOT normalized: ||v|| = 2.236068\n",
      "❌ Vector 2 is NOT normalized: ||v|| = 1.414214\n",
      "\n",
      "🔎 직교성 (Orthogonality) 검사:\n",
      "❌ Vectors 1 and 2 are NOT orthogonal: dot = -3.000000\n",
      "\n",
      "📌 최종 결과:\n",
      "❌ The vectors do NOT form an orthonormal basis.\n"
     ]
    },
    {
     "data": {
      "text/plain": [
       "False"
      ]
     },
     "execution_count": 9,
     "metadata": {},
     "output_type": "execute_result"
    }
   ],
   "source": [
    "# 예제 벡터들\n",
    "# v1 = np.array([[1], [1]]) / np.sqrt(2)\n",
    "# v2 = np.array([[1], [-1]]) / np.sqrt(2)\n",
    "\n",
    "v1 = np.array([[2], [-1]])\n",
    "v2 = np.array([[-1], [1]])\n",
    "\n",
    "\n",
    "# 확인\n",
    "is_orthonormal_basis([v1, v2])"
   ]
  },
  {
   "cell_type": "code",
   "execution_count": null,
   "metadata": {},
   "outputs": [],
   "source": []
  }
 ],
 "metadata": {
  "kernelspec": {
   "display_name": "Enos",
   "language": "python",
   "name": "python3"
  },
  "language_info": {
   "codemirror_mode": {
    "name": "ipython",
    "version": 3
   },
   "file_extension": ".py",
   "mimetype": "text/x-python",
   "name": "python",
   "nbconvert_exporter": "python",
   "pygments_lexer": "ipython3",
   "version": "3.9.19"
  }
 },
 "nbformat": 4,
 "nbformat_minor": 2
}
