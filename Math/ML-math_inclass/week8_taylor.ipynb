{
 "cells": [
  {
   "cell_type": "code",
   "execution_count": 2,
   "id": "fa43e611",
   "metadata": {},
   "outputs": [
    {
     "name": "stdout",
     "output_type": "stream",
     "text": [
      "Function: f(x) = x**4\n",
      "Taylor series around x = 1 up to order 5:\n",
      "\n",
      "0차: 1\n",
      "1차: 4*x - 4\n",
      "2차: 6*(x - 1)**2\n",
      "3차: 4*(x - 1)**3\n",
      "4차: (x - 1)**4\n",
      "5차: 0\n",
      "\n",
      "✅ Full Taylor approximation:\n",
      "T_5(x) = x**4\n"
     ]
    }
   ],
   "source": [
    "import sympy as sp\n",
    "\n",
    "def taylor_series_pretty(f_expr, x_symbol, x0, n):\n",
    "    taylor_terms = []\n",
    "    \n",
    "    print(f\"Function: f(x) = {f_expr}\")\n",
    "    print(f\"Taylor series around x = {x0} up to order {n}:\\n\")\n",
    "\n",
    "    for i in range(n + 1):\n",
    "        f_diff = f_expr.diff(x_symbol, i)\n",
    "        f_at_x0 = f_diff.subs(x_symbol, x0)\n",
    "        term = (f_at_x0 / sp.factorial(i)) * (x_symbol - x0)**i\n",
    "        term_simplified = sp.simplify(term)\n",
    "        taylor_terms.append(term_simplified)\n",
    "        print(f\"{i}차: {sp.sstr(term_simplified)}\")\n",
    "\n",
    "    full_expr = sum(taylor_terms)\n",
    "    print(\"\\n✅ Full Taylor approximation:\")\n",
    "    print(f\"T_{n}(x) = {sp.sstr(sp.simplify(full_expr))}\")\n",
    "\n",
    "# 예시 실행\n",
    "x = sp.Symbol('x')\n",
    "f = x**4\n",
    "taylor_series_pretty(f_expr=f, x_symbol=x, x0=1, n=5)\n"
   ]
  },
  {
   "cell_type": "code",
   "execution_count": 2,
   "id": "82fea60f",
   "metadata": {},
   "outputs": [
    {
     "name": "stdout",
     "output_type": "stream",
     "text": [
      "Function: f(x) = sin(x) + cos(x)\n",
      "Taylor series around x = 0 up to order 5:\n",
      "\n",
      "0차: 1\n",
      "1차: x\n",
      "2차: -x**2/2\n",
      "3차: -x**3/6\n",
      "4차: x**4/24\n",
      "5차: x**5/120\n",
      "\n",
      "✅ Full Taylor approximation:\n",
      "T_5(x) = x**5/120 + x**4/24 - x**3/6 - x**2/2 + x + 1\n"
     ]
    }
   ],
   "source": [
    "import sympy as sp\n",
    "\n",
    "def taylor_series_pretty(f_expr, x_symbol, x0, n):\n",
    "    taylor_terms = []\n",
    "    \n",
    "    print(f\"Function: f(x) = {f_expr}\")\n",
    "    print(f\"Taylor series around x = {x0} up to order {n}:\\n\")\n",
    "\n",
    "    for i in range(n + 1):\n",
    "        f_diff = f_expr.diff(x_symbol, i)\n",
    "        f_at_x0 = f_diff.subs(x_symbol, x0)\n",
    "        term = (f_at_x0 / sp.factorial(i)) * (x_symbol - x0)**i\n",
    "        term_simplified = sp.simplify(term)\n",
    "        taylor_terms.append(term_simplified)\n",
    "        print(f\"{i}차: {sp.sstr(term_simplified)}\")\n",
    "\n",
    "    full_expr = sum(taylor_terms)\n",
    "    print(\"\\n✅ Full Taylor approximation:\")\n",
    "    print(f\"T_{n}(x) = {sp.sstr(sp.simplify(full_expr))}\")\n",
    "\n",
    "# 예시 실행\n",
    "x = sp.Symbol('x')\n",
    "f = sp.sin(x) + sp.cos(x)\n",
    "taylor_series_pretty(f_expr=f, x_symbol=x, x0=0, n=5)\n"
   ]
  },
  {
   "cell_type": "code",
   "execution_count": 1,
   "id": "af2a1703",
   "metadata": {},
   "outputs": [
    {
     "name": "stdout",
     "output_type": "stream",
     "text": [
      "주어진 함수 f(x):\n",
      "sin(x) + cos(x)\n",
      "\n",
      "중심점 x₀ = 0 에서의 테일러(매클로린) 급수:\n",
      "         2    3    4     5        \n",
      "        x    x    x     x     ⎛ 6⎞\n",
      "1 + x - ── - ── + ── + ─── + O⎝x ⎠\n",
      "        2    6    24   120        \n",
      "\n",
      "O(x^6) 항을 제외한 테일러 다항식:\n",
      "  5    4    3    2        \n",
      " x    x    x    x         \n",
      "─── + ── - ── - ── + x + 1\n",
      "120   24   6    2         \n"
     ]
    }
   ],
   "source": [
    "import sympy as sp\n",
    "\n",
    "# 1. 변수 x를 기호(Symbol)로 정의합니다.\n",
    "x = sp.symbols('x')\n",
    "\n",
    "# 2. 주어진 함수 f(x)를 정의합니다.\n",
    "f = sp.sin(x) + sp.cos(x)\n",
    "\n",
    "# 3. 전개할 중심점 x₀ (at x₀ = 0)\n",
    "x0 = 0\n",
    "\n",
    "# 4. 전개할 항의 개수 (order) 설정 (예: 6차항까지)\n",
    "# n=6으로 설정하면 x의 5제곱 항까지 보여주고 O(x⁶) 항을 포함합니다.\n",
    "order = 6\n",
    "\n",
    "# 5. sympy의 series 함수를 이용해 테일러 급수를 계산합니다.\n",
    "# x0=0에서 전개하는 것은 매클로린 급수(Maclaurin series)라고도 합니다.\n",
    "taylor_series = sp.series(f, x, x0, n=order)\n",
    "\n",
    "# 6. 결과를 출력합니다.\n",
    "print(\"주어진 함수 f(x):\")\n",
    "sp.pprint(f)\n",
    "\n",
    "print(f\"\\n중심점 x₀ = {x0} 에서의 테일러(매클로린) 급수:\")\n",
    "sp.pprint(taylor_series)\n",
    "\n",
    "# O(x^n) 항을 제외한 다항식만 보고 싶을 경우\n",
    "taylor_polynomial = taylor_series.removeO()\n",
    "print(\"\\nO(x^6) 항을 제외한 테일러 다항식:\")\n",
    "sp.pprint(taylor_polynomial)"
   ]
  },
  {
   "cell_type": "code",
   "execution_count": null,
   "id": "ab062f2a",
   "metadata": {},
   "outputs": [],
   "source": []
  }
 ],
 "metadata": {
  "kernelspec": {
   "display_name": "base",
   "language": "python",
   "name": "python3"
  },
  "language_info": {
   "codemirror_mode": {
    "name": "ipython",
    "version": 3
   },
   "file_extension": ".py",
   "mimetype": "text/x-python",
   "name": "python",
   "nbconvert_exporter": "python",
   "pygments_lexer": "ipython3",
   "version": "3.11.5"
  }
 },
 "nbformat": 4,
 "nbformat_minor": 5
}
