{
 "cells": [
  {
   "cell_type": "code",
   "execution_count": 7,
   "id": "c3449022",
   "metadata": {},
   "outputs": [
    {
     "name": "stdout",
     "output_type": "stream",
     "text": [
      "f(x) =\n",
      " m - 1                                                                         \n",
      "______                                                                        \n",
      "╲                                                                             \n",
      " ╲     ⎛              n - 1                        ⎞ ⎛              n - 1     \n",
      "  ╲    ⎜               ___                         ⎟ ⎜               ___      \n",
      "   ╲   ⎜               ╲                           ⎟ ⎜               ╲        \n",
      "    ╲  ⎜                ╲                          ⎟ ⎜                ╲       \n",
      "    ╱  ⎜-(b)[i₁, 0] +   ╱    (A)[i₁, i₂]⋅(x)[i₂, 0]⎟⋅⎜-(b)[i₁, 0] +   ╱    (A)\n",
      "   ╱   ⎜               ╱                           ⎟ ⎜               ╱        \n",
      "  ╱    ⎜               ‾‾‾                         ⎟ ⎜               ‾‾‾      \n",
      " ╱     ⎝              i₂ = 0                       ⎠ ⎝              i₃ = 0    \n",
      "╱                                                                             \n",
      "‾‾‾‾‾‾                                                                        \n",
      "i₁ = 0                                                                        \n",
      "\n",
      "                    \n",
      "                    \n",
      "                    \n",
      "                   ⎞\n",
      "                   ⎟\n",
      "                   ⎟\n",
      "                   ⎟\n",
      "[i₁, i₃]⋅(x)[i₃, 0]⎟\n",
      "                   ⎟\n",
      "                   ⎟\n",
      "                   ⎠\n",
      "                    \n",
      "                    \n",
      "                    \n",
      "\n",
      "∇f(x) =\n",
      "    T           \n",
      "2⋅A ⋅(-b + A⋅x)\n",
      "\n",
      "업데이트 식 x_{k+1} =\n",
      "       T               \n",
      "-2⋅γ⋅A ⋅(-b + A⋅x) + x\n"
     ]
    }
   ],
   "source": [
    "import sympy as sp\n",
    "\n",
    "# ─── 기호(Symbol) 정의 ───────────────────────────────────────\n",
    "m, n, γ = sp.symbols('m n γ', integer=True, positive=True)\n",
    "A = sp.MatrixSymbol('A', m, n)      # A: m×n 행렬\n",
    "x = sp.MatrixSymbol('x', n, 1)      # x: n×1 벡터\n",
    "b = sp.MatrixSymbol('b', m, 1)      # b: m×1 벡터\n",
    "\n",
    "# ─── 목적함수 f(x) = ||Ax - b||^2 ───────────────────────────\n",
    "r = A*x - b                          # residual (m×1)\n",
    "f = (r.T * r)[0,0]                   # 1×1 매트릭스 → 스칼라\n",
    "\n",
    "# ─── 그래디언트 ∇f(x) = 2 A^T (Ax - b) ────────────────────\n",
    "grad_f = 2 * A.T * r                # n×1 벡터\n",
    "\n",
    "# ─── 업데이트 식 x_{k+1} = x_k - γ ∇f(x_k) ──────────────────\n",
    "x_next = sp.simplify(x - γ * grad_f)\n",
    "\n",
    "# ─── 결과 출력 (pretty print) ─────────────────────────────\n",
    "print(\"f(x) =\", end=\"\\n \")\n",
    "sp.pprint(f)\n",
    "\n",
    "print(\"\\n∇f(x) =\", end=\"\\n \")\n",
    "sp.pprint(grad_f)\n",
    "print(\"\\n업데이트 식 x_{k+1} =\", end=\"\\n \")\n",
    "sp.pprint(x_next)\n"
   ]
  },
  {
   "cell_type": "code",
   "execution_count": 1,
   "id": "0179fc26",
   "metadata": {},
   "outputs": [
    {
     "name": "stdout",
     "output_type": "stream",
     "text": [
      "\"asdf\"\n"
     ]
    }
   ],
   "source": [
    "text = input()\n",
    "print(f'\"{text}\"')\n"
   ]
  },
  {
   "cell_type": "code",
   "execution_count": null,
   "id": "4b85e069",
   "metadata": {},
   "outputs": [
    {
     "name": "stdout",
     "output_type": "stream",
     "text": [
      "30\n"
     ]
    },
    {
     "ename": "",
     "evalue": "",
     "output_type": "error",
     "traceback": [
      "\u001b[1;31m현재 셀 또는 이전 셀에서 코드를 실행하는 동안 Kernel이 충돌했습니다. \n",
      "\u001b[1;31m셀의 코드를 검토하여 가능한 오류 원인을 식별하세요. \n",
      "\u001b[1;31m자세한 내용을 보려면 <a href='https://aka.ms/vscodeJupyterKernelCrash'>여기</a>를 클릭하세요. \n",
      "\u001b[1;31m자세한 내용은 Jupyter <a href='command:jupyter.viewOutput'>로그</a>를 참조하세요."
     ]
    }
   ],
   "source": [
    "num = input()\n",
    "\n",
    "print(f\"{abs(int(num))}\")"
   ]
  },
  {
   "cell_type": "code",
   "execution_count": 5,
   "id": "43d7ecd2",
   "metadata": {},
   "outputs": [
    {
     "name": "stdout",
     "output_type": "stream",
     "text": [
      "나이스\n"
     ]
    }
   ],
   "source": [
    "a = \"나이스\"\n",
    "a.replace('스','키')\n",
    "print(a)"
   ]
  },
  {
   "cell_type": "code",
   "execution_count": 6,
   "id": "f8a93efb",
   "metadata": {},
   "outputs": [
    {
     "name": "stdout",
     "output_type": "stream",
     "text": [
      "a\n",
      "b\n"
     ]
    }
   ],
   "source": [
    "ri = [\"a\",\"b\"]\n",
    "\n",
    "for r in ri:\n",
    "    print(r)\n"
   ]
  },
  {
   "cell_type": "code",
   "execution_count": 8,
   "id": "629c35a7",
   "metadata": {},
   "outputs": [
    {
     "name": "stdout",
     "output_type": "stream",
     "text": [
      "안녕하세요, 제 이름은 철수이고 나이는 20살입니다.\n",
      "안녕하세요, 제 이름은 영희이고 나이는 25살입니다.\n",
      "철수\n"
     ]
    }
   ],
   "source": [
    "class Person:\n",
    "    def __init__(self, name, age):\n",
    "        self.name = name  # 인스턴스 변수 name\n",
    "        self.age = age    # 인스턴스 변수 age\n",
    "\n",
    "    def greet(self):\n",
    "        print(f\"안녕하세요, 제 이름은 {self.name}이고 나이는 {self.age}살입니다.\")\n",
    "\n",
    "\n",
    "# Person 클래스의 객체 생성\n",
    "p1 = Person(\"철수\", 20)\n",
    "p2 = Person(\"영희\", 25)\n",
    "\n",
    "# 메서드 호출\n",
    "p1.greet()  # 출력: 안녕하세요, 제 이름은 철수이고 나이는 20살입니다.\n",
    "p2.greet()  # 출력: 안녕하세요, 제 이름은 영희이고 나이는 25살입니다.\n",
    "\n",
    "print(p1.name)\n"
   ]
  },
  {
   "cell_type": "code",
   "execution_count": 10,
   "id": "f1437a2f",
   "metadata": {},
   "outputs": [
    {
     "name": "stdout",
     "output_type": "stream",
     "text": [
      "[1, 2, 3]\n"
     ]
    }
   ],
   "source": [
    "a = [1,2,3]\n",
    "\n",
    "print(a)"
   ]
  },
  {
   "cell_type": "code",
   "execution_count": 15,
   "id": "2cdd9aea",
   "metadata": {},
   "outputs": [
    {
     "name": "stdout",
     "output_type": "stream",
     "text": [
      "['조규성', '황희찬', '이강인', '김민재']\n",
      "손흥민\n"
     ]
    }
   ],
   "source": [
    "a = ['손흥민', '조규성', '황희찬', '이강인', '김민재']\n",
    "\n",
    "b = a.pop(0)\n",
    "\n",
    "print(a)\n",
    "print(b)\n"
   ]
  },
  {
   "cell_type": "code",
   "execution_count": null,
   "id": "bc453393",
   "metadata": {},
   "outputs": [
    {
     "name": "stdout",
     "output_type": "stream",
     "text": [
      "3\n"
     ]
    }
   ],
   "source": [
    "total = 0\n",
    "\n",
    "def sum(num1, num2):\n",
    "    global total   # 전역변수를 사용하겠다고 명시\n",
    "    total = num1 + num2\n",
    "\n",
    "a = 1\n",
    "b = 2\n",
    "\n",
    "sum(a, b)\n",
    "print(total)  # 출력: 3\n"
   ]
  },
  {
   "cell_type": "code",
   "execution_count": 8,
   "id": "b0604f24",
   "metadata": {},
   "outputs": [
    {
     "name": "stdout",
     "output_type": "stream",
     "text": [
      "12\n"
     ]
    }
   ],
   "source": [
    "a = 3 \n",
    "b = 7\n",
    "\n",
    "def print_num():\n",
    "    a = 5\n",
    "    print(a+b)\n",
    "\n",
    "print_num()"
   ]
  },
  {
   "cell_type": "code",
   "execution_count": null,
   "id": "992be700",
   "metadata": {},
   "outputs": [],
   "source": []
  }
 ],
 "metadata": {
  "kernelspec": {
   "display_name": "base",
   "language": "python",
   "name": "python3"
  },
  "language_info": {
   "codemirror_mode": {
    "name": "ipython",
    "version": 3
   },
   "file_extension": ".py",
   "mimetype": "text/x-python",
   "name": "python",
   "nbconvert_exporter": "python",
   "pygments_lexer": "ipython3",
   "version": "3.11.5"
  }
 },
 "nbformat": 4,
 "nbformat_minor": 5
}
