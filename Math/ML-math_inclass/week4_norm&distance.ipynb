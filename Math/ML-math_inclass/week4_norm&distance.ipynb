{
 "cells": [
  {
   "cell_type": "code",
   "execution_count": 3,
   "metadata": {},
   "outputs": [
    {
     "name": "stdout",
     "output_type": "stream",
     "text": [
      "벡터 x = Matrix([[10], [0]])\n",
      "  ||x||_1 = 10,    ||x||_2 = 10\n",
      "\n",
      "벡터 y = Matrix([[20], [20*sqrt(3)]])\n",
      "  ||y||_1 = 20 + 20*sqrt(3),    ||y||_2 = 40\n",
      "\n",
      "L1 거리 ||x - y||_1 = 10 + 20*sqrt(3)\n",
      "L2 거리 ||x - y||_2 = 10*sqrt(13)\n",
      "\n",
      "내적 x·y = 200\n",
      "코사인 유사도 = 1/2\n",
      "\n",
      "벡터 사이의 각도:\n",
      "  (rad) pi/3\n",
      "  (deg) 60.0000000000000°\n"
     ]
    }
   ],
   "source": [
    "from sympy import Matrix, sqrt, acos, pi, N, init_printing\n",
    "\n",
    "# 예쁜 LaTeX 스타일 출력\n",
    "init_printing()\n",
    "\n",
    "# 두 벡터 정의\n",
    "x = Matrix([10, 0])\n",
    "y = Matrix([20, sqrt(1200)])\n",
    "\n",
    "# ▪️ x, y 각자의 L1/L2 노름\n",
    "l1_x = sum(abs(xi) for xi in x)\n",
    "l2_x = x.norm()               # sympy Matrix.norm() 사용\n",
    "\n",
    "l1_y = sum(abs(yi) for yi in y)\n",
    "l2_y = y.norm()\n",
    "\n",
    "# ▪️ x와 y 사이의 거리\n",
    "l1_xy = sum(abs(xi - yi) for xi, yi in zip(x, y))\n",
    "l2_xy = sqrt(sum((xi - yi)**2 for xi, yi in zip(x, y)))\n",
    "\n",
    "# ▪️ 내적과 코사인 유사도\n",
    "dot_xy = x.dot(y)\n",
    "cos_sim = dot_xy / (l2_x * l2_y)\n",
    "\n",
    "# ▪️ cos → 각도 변환 함수\n",
    "def cos_to_angle(cos_theta):\n",
    "    theta_rad = acos(cos_theta)\n",
    "    theta_deg = theta_rad * 180 / pi      # 올바른 변환: ×180/π\n",
    "    return theta_rad, theta_deg\n",
    "\n",
    "angle_rad, angle_deg = cos_to_angle(cos_sim)\n",
    "\n",
    "# ────────────────────────────────────────────────────────────────\n",
    "# 출력\n",
    "print(\"벡터 x =\", x)\n",
    "print(f\"  ||x||_1 = {l1_x},    ||x||_2 = {l2_x}\\n\")\n",
    "\n",
    "print(\"벡터 y =\", y)\n",
    "print(f\"  ||y||_1 = {l1_y},    ||y||_2 = {l2_y}\\n\")\n",
    "\n",
    "print(f\"L1 거리 ||x - y||_1 = {l1_xy}\")\n",
    "print(f\"L2 거리 ||x - y||_2 = {l2_xy}\\n\")\n",
    "\n",
    "print(f\"내적 x·y = {dot_xy}\")\n",
    "print(f\"코사인 유사도 = {cos_sim}\\n\")\n",
    "\n",
    "print(\"벡터 사이의 각도:\")\n",
    "print(f\"  (rad) {angle_rad}\")\n",
    "print(f\"  (deg) {N(angle_deg)}°\")   # N()으로 소수 근사\n"
   ]
  },
  {
   "cell_type": "code",
   "execution_count": null,
   "metadata": {},
   "outputs": [],
   "source": []
  }
 ],
 "metadata": {
  "kernelspec": {
   "display_name": "base",
   "language": "python",
   "name": "python3"
  },
  "language_info": {
   "codemirror_mode": {
    "name": "ipython",
    "version": 3
   },
   "file_extension": ".py",
   "mimetype": "text/x-python",
   "name": "python",
   "nbconvert_exporter": "python",
   "pygments_lexer": "ipython3",
   "version": "3.11.5"
  }
 },
 "nbformat": 4,
 "nbformat_minor": 2
}
