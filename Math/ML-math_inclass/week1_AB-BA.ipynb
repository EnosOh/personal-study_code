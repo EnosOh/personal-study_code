{
 "cells": [
  {
   "cell_type": "code",
   "execution_count": 1,
   "id": "8c25b9a3",
   "metadata": {},
   "outputs": [
    {
     "name": "stdout",
     "output_type": "stream",
     "text": [
      "A * B =\n"
     ]
    },
    {
     "data": {
      "text/latex": [
       "$\\displaystyle \\left[\\begin{matrix}1 & 0 & 0\\\\0 & 1 & 0\\\\0 & 0 & 1\\end{matrix}\\right]$"
      ],
      "text/plain": [
       "⎡1  0  0⎤\n",
       "⎢       ⎥\n",
       "⎢0  1  0⎥\n",
       "⎢       ⎥\n",
       "⎣0  0  1⎦"
      ]
     },
     "metadata": {},
     "output_type": "display_data"
    },
    {
     "name": "stdout",
     "output_type": "stream",
     "text": [
      "B * A =\n"
     ]
    },
    {
     "data": {
      "text/latex": [
       "$\\displaystyle \\left[\\begin{matrix}1 & 0 & 0\\\\0 & 1 & 0\\\\0 & 0 & 1\\end{matrix}\\right]$"
      ],
      "text/plain": [
       "⎡1  0  0⎤\n",
       "⎢       ⎥\n",
       "⎢0  1  0⎥\n",
       "⎢       ⎥\n",
       "⎣0  0  1⎦"
      ]
     },
     "metadata": {},
     "output_type": "display_data"
    }
   ],
   "source": [
    "from sympy import Matrix, init_printing\n",
    "\n",
    "# 예쁜 출력 설정\n",
    "init_printing()\n",
    "\n",
    "# 행렬 정의\n",
    "A = Matrix([\n",
    "    [1, 2, 1],\n",
    "    [4, 4, 5],\n",
    "    [6, 7, 7]\n",
    "])\n",
    "\n",
    "B = Matrix([\n",
    "    [-7, -7, 6],\n",
    "    [2, 1, -1],\n",
    "    [4, 5, -4]\n",
    "])\n",
    "\n",
    "# AB 계산\n",
    "AB = A * B\n",
    "\n",
    "# BA 계산\n",
    "BA = B * A\n",
    "\n",
    "# 결과 출력\n",
    "print(\"A * B =\")\n",
    "display(AB)\n",
    "\n",
    "print(\"B * A =\")\n",
    "display(BA)\n"
   ]
  },
  {
   "cell_type": "code",
   "execution_count": 2,
   "id": "3d665fa2",
   "metadata": {},
   "outputs": [
    {
     "name": "stdout",
     "output_type": "stream",
     "text": [
      "A * B =\n"
     ]
    },
    {
     "data": {
      "text/latex": [
       "$\\displaystyle \\left[\\begin{matrix}1 & 1 & 2\\\\2 & 1 & 1\\\\1 & 2 & 1\\end{matrix}\\right]$"
      ],
      "text/plain": [
       "⎡1  1  2⎤\n",
       "⎢       ⎥\n",
       "⎢2  1  1⎥\n",
       "⎢       ⎥\n",
       "⎣1  2  1⎦"
      ]
     },
     "metadata": {},
     "output_type": "display_data"
    },
    {
     "name": "stdout",
     "output_type": "stream",
     "text": [
      "B * A =\n"
     ]
    },
    {
     "data": {
      "text/latex": [
       "$\\displaystyle \\left[\\begin{matrix}1 & 1 & 2\\\\2 & 1 & 1\\\\1 & 2 & 1\\end{matrix}\\right]$"
      ],
      "text/plain": [
       "⎡1  1  2⎤\n",
       "⎢       ⎥\n",
       "⎢2  1  1⎥\n",
       "⎢       ⎥\n",
       "⎣1  2  1⎦"
      ]
     },
     "metadata": {},
     "output_type": "display_data"
    }
   ],
   "source": [
    "from sympy import Matrix, init_printing\n",
    "\n",
    "# 예쁜 출력 설정\n",
    "init_printing()\n",
    "\n",
    "# 행렬 정의\n",
    "A = Matrix([\n",
    "    [1, 0, 1],\n",
    "    [1, 1, 0],\n",
    "    [0, 1, 1]\n",
    "])\n",
    "\n",
    "B = Matrix([\n",
    "    [1, 0, 1],\n",
    "    [1, 1, 0],\n",
    "    [0, 1, 1]\n",
    "])\n",
    "\n",
    "# AB 계산\n",
    "AB = A * B\n",
    "\n",
    "# BA 계산\n",
    "BA = B * A\n",
    "\n",
    "# 결과 출력\n",
    "print(\"A * B =\")\n",
    "display(AB)\n",
    "\n",
    "print(\"B * A =\")\n",
    "display(BA)\n"
   ]
  },
  {
   "cell_type": "code",
   "execution_count": null,
   "id": "25080295",
   "metadata": {},
   "outputs": [],
   "source": []
  }
 ],
 "metadata": {
  "kernelspec": {
   "display_name": "base",
   "language": "python",
   "name": "python3"
  },
  "language_info": {
   "codemirror_mode": {
    "name": "ipython",
    "version": 3
   },
   "file_extension": ".py",
   "mimetype": "text/x-python",
   "name": "python",
   "nbconvert_exporter": "python",
   "pygments_lexer": "ipython3",
   "version": "3.11.5"
  }
 },
 "nbformat": 4,
 "nbformat_minor": 5
}
