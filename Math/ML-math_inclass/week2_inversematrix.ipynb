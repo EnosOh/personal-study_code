{
 "cells": [
  {
   "cell_type": "code",
   "execution_count": 4,
   "id": "4b22e067",
   "metadata": {},
   "outputs": [
    {
     "name": "stdout",
     "output_type": "stream",
     "text": [
      "역행렬 A^{-1}:\n"
     ]
    },
    {
     "data": {
      "text/latex": [
       "$\\displaystyle \\left[\\begin{matrix}\\frac{1}{2} & \\frac{1}{2} & - \\frac{1}{2}\\\\- \\frac{1}{2} & \\frac{1}{2} & \\frac{1}{2}\\\\\\frac{1}{2} & - \\frac{1}{2} & \\frac{1}{2}\\end{matrix}\\right]$"
      ],
      "text/plain": [
       "⎡1/2   1/2   -1/2⎤\n",
       "⎢                ⎥\n",
       "⎢-1/2  1/2   1/2 ⎥\n",
       "⎢                ⎥\n",
       "⎣1/2   -1/2  1/2 ⎦"
      ]
     },
     "metadata": {},
     "output_type": "display_data"
    }
   ],
   "source": [
    "from sympy import Matrix, init_printing\n",
    "\n",
    "# 예쁜 출력\n",
    "init_printing()\n",
    "\n",
    "def inverse_matrix(A):\n",
    "    # 1. sympy Matrix로 변환\n",
    "    A = Matrix(A)\n",
    "\n",
    "    # 2. 역행렬 존재 확인\n",
    "    if A.det() == 0:\n",
    "        print(\"역행렬이 존재하지 않습니다 (singular matrix, det=0).\")\n",
    "        return None\n",
    "    \n",
    "    # 3. 역행렬 계산\n",
    "    A_inv = A.inv()\n",
    "    return A_inv\n",
    "\n",
    "# ────────────────────────────────────────────────────────────────\n",
    "# 예시 사용\n",
    "A = [\n",
    "    [1, 0, 1],\n",
    "    [1, 1, 0],\n",
    "    [0,1,1]]\n",
    "\n",
    "A_inv = inverse_matrix(A)\n",
    "\n",
    "if A_inv is not None:\n",
    "    print(\"역행렬 A^{-1}:\")\n",
    "    display(A_inv)\n"
   ]
  },
  {
   "cell_type": "code",
   "execution_count": null,
   "id": "7d7fa5fb",
   "metadata": {},
   "outputs": [],
   "source": []
  }
 ],
 "metadata": {
  "kernelspec": {
   "display_name": "base",
   "language": "python",
   "name": "python3"
  },
  "language_info": {
   "codemirror_mode": {
    "name": "ipython",
    "version": 3
   },
   "file_extension": ".py",
   "mimetype": "text/x-python",
   "name": "python",
   "nbconvert_exporter": "python",
   "pygments_lexer": "ipython3",
   "version": "3.11.5"
  }
 },
 "nbformat": 4,
 "nbformat_minor": 5
}
