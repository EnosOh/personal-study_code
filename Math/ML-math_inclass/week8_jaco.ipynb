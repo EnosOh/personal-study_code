{
 "cells": [
  {
   "cell_type": "code",
   "execution_count": 1,
   "id": "c0a737da",
   "metadata": {},
   "outputs": [
    {
     "name": "stdout",
     "output_type": "stream",
     "text": [
      "주어진 벡터 함수 f(x, y, z):\n",
      "⎡x⋅y⋅z + cos(x)⎤\n",
      "⎢              ⎥\n",
      "⎢  2      y⋅z  ⎥\n",
      "⎣ x ⋅y + ℯ     ⎦\n",
      "\n",
      "========================================\n",
      "\n",
      "야코비안 행렬 J(x, y, z):\n",
      "⎡y⋅z - sin(x)      x⋅z       x⋅y  ⎤\n",
      "⎢                                 ⎥\n",
      "⎢               2      y⋅z     y⋅z⎥\n",
      "⎣   2⋅x⋅y      x  + z⋅ℯ     y⋅ℯ   ⎦\n",
      "\n",
      "========================================\n",
      "\n",
      "점 (1, 2, sqrt(3)) 에서의 야코비안 행렬 J:\n",
      "⎡-sin(1) + 2⋅√3       √3          2   ⎤\n",
      "⎢                                     ⎥\n",
      "⎢                        2⋅√3     2⋅√3⎥\n",
      "⎣      4         1 + √3⋅ℯ      2⋅ℯ    ⎦\n"
     ]
    }
   ],
   "source": [
    "import sympy as sp\n",
    "\n",
    "# 1. 기호 변수 선언 (x, y, z를 수학 기호로 사용)\n",
    "x, y, z = sp.symbols('x y z')\n",
    "\n",
    "# 2. 벡터 함수 f의 각 성분 정의\n",
    "f1 = x * y * z + sp.cos(x)\n",
    "f2 = sp.exp(y * z) + x**2 * y\n",
    "\n",
    "# 3. Sympy의 Matrix 객체로 벡터 함수 생성\n",
    "# f = [ f1 ]\n",
    "#     [ f2 ]\n",
    "f = sp.Matrix([f1, f2])\n",
    "\n",
    "# 4. 미분할 변수를 Matrix 객체로 지정\n",
    "variables = sp.Matrix([x, y, z])\n",
    "\n",
    "# 5. f를 variables에 대해 편미분하여 야코비안 행렬 계산\n",
    "# J = [ ∂f1/∂x  ∂f1/∂y  ∂f1/∂z ]\n",
    "#     [ ∂f2/∂x  ∂f2/∂y  ∂f2/∂z ]\n",
    "J = f.jacobian(variables)\n",
    "\n",
    "# 6. 값을 대입할 지점 정의\n",
    "point = {\n",
    "    x: 1,\n",
    "    y: 2,\n",
    "    z: sp.sqrt(3)\n",
    "}\n",
    "\n",
    "# 7. 계산된 야코비안 행렬에 지정된 지점의 값을 대입\n",
    "J_at_point = J.subs(point)\n",
    "\n",
    "\n",
    "# --- 결과 출력 ---\n",
    "print(\"주어진 벡터 함수 f(x, y, z):\")\n",
    "sp.pprint(f, use_unicode=True)\n",
    "print(\"\\n\" + \"=\"*40 + \"\\n\")\n",
    "\n",
    "print(\"야코비안 행렬 J(x, y, z):\")\n",
    "sp.pprint(J, use_unicode=True)\n",
    "print(\"\\n\" + \"=\"*40 + \"\\n\")\n",
    "\n",
    "print(f\"점 ({point[x]}, {point[y]}, {point[z]}) 에서의 야코비안 행렬 J:\")\n",
    "sp.pprint(J_at_point, use_unicode=True)"
   ]
  },
  {
   "cell_type": "code",
   "execution_count": null,
   "id": "8a974caa",
   "metadata": {},
   "outputs": [],
   "source": []
  }
 ],
 "metadata": {
  "kernelspec": {
   "display_name": "base",
   "language": "python",
   "name": "python3"
  },
  "language_info": {
   "codemirror_mode": {
    "name": "ipython",
    "version": 3
   },
   "file_extension": ".py",
   "mimetype": "text/x-python",
   "name": "python",
   "nbconvert_exporter": "python",
   "pygments_lexer": "ipython3",
   "version": "3.11.5"
  }
 },
 "nbformat": 4,
 "nbformat_minor": 5
}
