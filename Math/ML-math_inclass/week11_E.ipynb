{
 "cells": [
  {
   "cell_type": "code",
   "execution_count": 1,
   "id": "f39416a1",
   "metadata": {},
   "outputs": [
    {
     "name": "stdout",
     "output_type": "stream",
     "text": [
      "주사위 눈의 기댓값: 3.5\n"
     ]
    }
   ],
   "source": [
    "def calculate_expected_value(values, probabilities):\n",
    "    \"\"\"\n",
    "    이산 확률 변수의 기댓값을 계산합니다.\n",
    "    \n",
    "    Args:\n",
    "        values (list): 확률 변수가 가질 수 있는 값들의 리스트\n",
    "        probabilities (list): 각 값에 해당하는 확률들의 리스트\n",
    "        \n",
    "    Returns:\n",
    "        float: 계산된 기댓값\n",
    "    \"\"\"\n",
    "    expected_value = sum(v * p for v, p in zip(values, probabilities))\n",
    "    return expected_value\n",
    "\n",
    "# --- 예제: 주사위를 한 번 던질 때 나오는 눈의 기댓값 ---\n",
    "\n",
    "# 1. 확률 변수가 가질 수 있는 값 (눈)\n",
    "die_values = [1, 2, 3, 4, 5, 6]\n",
    "\n",
    "# 2. 각 값이 나올 확률\n",
    "die_probabilities = [1/6, 1/6, 1/6, 1/6, 1/6, 1/6]\n",
    "\n",
    "# 3. 기댓값 계산\n",
    "ev = calculate_expected_value(die_values, die_probabilities)\n",
    "\n",
    "print(f\"주사위 눈의 기댓값: {ev}\")"
   ]
  },
  {
   "cell_type": "code",
   "execution_count": null,
   "id": "c1305d01",
   "metadata": {},
   "outputs": [],
   "source": []
  }
 ],
 "metadata": {
  "kernelspec": {
   "display_name": "base",
   "language": "python",
   "name": "python3"
  },
  "language_info": {
   "codemirror_mode": {
    "name": "ipython",
    "version": 3
   },
   "file_extension": ".py",
   "mimetype": "text/x-python",
   "name": "python",
   "nbconvert_exporter": "python",
   "pygments_lexer": "ipython3",
   "version": "3.11.5"
  }
 },
 "nbformat": 4,
 "nbformat_minor": 5
}
