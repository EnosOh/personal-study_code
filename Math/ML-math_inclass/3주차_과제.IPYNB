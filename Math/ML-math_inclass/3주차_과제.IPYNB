{
 "cells": [
  {
   "cell_type": "markdown",
   "metadata": {},
   "source": []
  },
  {
   "cell_type": "code",
   "execution_count": 2,
   "metadata": {},
   "outputs": [
    {
     "name": "stdout",
     "output_type": "stream",
     "text": [
      "S =\n",
      " [[1 0 1]\n",
      " [1 1 0]\n",
      " [0 1 1]]\n",
      "T =\n",
      " [[1 0 1 0]\n",
      " [1 1 0 0]\n",
      " [0 1 1 0]\n",
      " [0 0 0 1]]\n"
     ]
    }
   ],
   "source": [
    "import numpy as np\n",
    "S = np.array([[1, 0, 1],\n",
    "              [1, 1, 0],\n",
    "              [0, 1, 1]])\n",
    "\n",
    "# Basis vectors for C̃ (4x4)\n",
    "T = np.array([[1, 0, 1, 0],\n",
    "              [1, 1, 0, 0],\n",
    "              [0, 1, 1, 0],\n",
    "              [0, 0, 0, 1]])\n",
    "\n",
    "print(\"S =\\n\", S)\n",
    "print(\"T =\\n\", T)"
   ]
  },
  {
   "cell_type": "code",
   "execution_count": 3,
   "metadata": {},
   "outputs": [
    {
     "name": "stdout",
     "output_type": "stream",
     "text": [
      "T⁻¹ =\n",
      " [[ 0.5  0.5 -0.5  0. ]\n",
      " [-0.5  0.5  0.5  0. ]\n",
      " [ 0.5 -0.5  0.5  0. ]\n",
      " [ 0.   0.   0.   1. ]]\n"
     ]
    }
   ],
   "source": [
    "T_inv = np.linalg.inv(T)\n",
    "print(\"T⁻¹ =\\n\", T_inv)"
   ]
  },
  {
   "cell_type": "code",
   "execution_count": 4,
   "metadata": {},
   "outputs": [
    {
     "name": "stdout",
     "output_type": "stream",
     "text": [
      "temp :\n",
      " [[ 5  4  3]\n",
      " [ 2  6  4]\n",
      " [10  8  6]\n",
      " [-1  4  1]]\n",
      "\n",
      "ÃΦ =\n",
      " [[-1.5  1.   0.5]\n",
      " [ 3.5  5.   3.5]\n",
      " [ 6.5  3.   2.5]\n",
      " [-1.   4.   1. ]]\n"
     ]
    }
   ],
   "source": [
    "# Original transformation matrix AΦ (4x3)\n",
    "A_phi = np.array([[ 2,  3,  1],\n",
    "                  [ 0,  2,  4],\n",
    "                  [ 4,  6,  2],\n",
    "                  [-2,  1,  3]])\n",
    "\n",
    "# Compute ÃΦ = T⁻¹ @ AΦ @ S\n",
    "temp = A_phi @ S\n",
    "print(f\"temp :\\n {temp}\\n\")\n",
    "\n",
    "A_phi_tilde = T_inv @ temp\n",
    "print(\"ÃΦ =\\n\", A_phi_tilde)"
   ]
  },
  {
   "cell_type": "code",
   "execution_count": 5,
   "metadata": {},
   "outputs": [
    {
     "name": "stdout",
     "output_type": "stream",
     "text": [
      "New transformation matrix Ã_φ:\n",
      "[[-1.5  1.   0.5]\n",
      " [ 3.5  5.   3.5]\n",
      " [ 6.5  3.   2.5]\n",
      " [-1.   4.   1. ]]\n"
     ]
    }
   ],
   "source": [
    "import numpy as np\n",
    "\n",
    "# Original transformation matrix\n",
    "A_phi = np.array([\n",
    "    [2, 3, 1],\n",
    "    [0, 2, 4],\n",
    "    [4, 6, 2],\n",
    "    [-2, 1, 3]\n",
    "])\n",
    "\n",
    "# Change of basis matrix for domain (S)\n",
    "S = np.array([\n",
    "    [1, 0, 1],\n",
    "    [1, 1, 0],\n",
    "    [0, 1, 1]\n",
    "])\n",
    "\n",
    "# Change of basis matrix for codomain (T)\n",
    "T = np.array([\n",
    "    [1, 0, 1, 0],\n",
    "    [1, 1, 0, 0],\n",
    "    [0, 1, 1, 0],\n",
    "    [0, 0, 0, 1]\n",
    "])\n",
    "\n",
    "# Calculate the new transformation matrix\n",
    "T_inv = np.linalg.inv(T)\n",
    "A_phi_new = T_inv @ A_phi @ S\n",
    "\n",
    "print(\"New transformation matrix Ã_φ:\")\n",
    "print(A_phi_new)"
   ]
  },
  {
   "cell_type": "code",
   "execution_count": null,
   "metadata": {},
   "outputs": [],
   "source": []
  }
 ],
 "metadata": {
  "kernelspec": {
   "display_name": "base",
   "language": "python",
   "name": "python3"
  },
  "language_info": {
   "codemirror_mode": {
    "name": "ipython",
    "version": 3
   },
   "file_extension": ".py",
   "mimetype": "text/x-python",
   "name": "python",
   "nbconvert_exporter": "python",
   "pygments_lexer": "ipython3",
   "version": "3.11.5"
  }
 },
 "nbformat": 4,
 "nbformat_minor": 2
}
