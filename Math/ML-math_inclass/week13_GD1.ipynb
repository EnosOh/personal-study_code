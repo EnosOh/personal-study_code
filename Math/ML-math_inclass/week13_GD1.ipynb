{
 "cells": [
  {
   "cell_type": "code",
   "execution_count": 3,
   "id": "ea74baf2",
   "metadata": {},
   "outputs": [
    {
     "name": "stdout",
     "output_type": "stream",
     "text": [
      "그래디언트 ∇f(x):\n",
      "⎡3⋅x₁ + 2⋅x₂ - 4 ⎤\n",
      "⎢                ⎥\n",
      "⎣2⋅x₁ + 15⋅x₂ - 6⎦\n",
      "\n",
      "업데이트 식 x_{k+1} =\n",
      "⎡-γ⋅(3⋅x₁ + 2⋅x₂ - 4) + x₁ ⎤\n",
      "⎢                          ⎥\n",
      "⎣-γ⋅(2⋅x₁ + 15⋅x₂ - 6) + x₂⎦\n",
      "\n",
      "--- 수치 결과 ---\n",
      "초기 위치 x0 = Matrix([[-2], [1]])\n",
      "x1 = Matrix([[-1.44000], [0.650000]])\n",
      "x2 = Matrix([[-0.948600], [0.589100]])\n",
      "f(x0) = 11.5000\n",
      "f(x1) = 6.26715\n",
      "f(x2) = 3.09471\n"
     ]
    }
   ],
   "source": [
    "import sympy as sp\n",
    "\n",
    "# ─── 기호(Symbol) 정의 ───────────────────────────────────────\n",
    "x1_sym, x2_sym, gamma = sp.symbols('x1 x2 gamma', real=True)\n",
    "x_sym = sp.Matrix([x1_sym, x2_sym])\n",
    "\n",
    "# ─── 행렬 및 벡터 정의 ────────────────────────────────────\n",
    "Q = sp.Matrix([[3, 2],\n",
    "               [2, 15]])\n",
    "b = sp.Matrix([4, 6])\n",
    "\n",
    "# ─── 목적함수 f(x) 정의 ───────────────────────────────────\n",
    "f_sym = (x_sym.T * Q * x_sym) / 2 - (b.T * x_sym)\n",
    "f_sym = sp.simplify(f_sym[0, 0])  # 1×1 행렬을 스칼라로\n",
    "\n",
    "# ─── 그래디언트 ∇f(x) 계산 ─────────────────────────────────\n",
    "grad_f = sp.Matrix([sp.diff(f_sym, x1_sym),\n",
    "                    sp.diff(f_sym, x2_sym)])\n",
    "grad_f = sp.simplify(grad_f)\n",
    "\n",
    "# ─── 업데이트 식 x_{k+1} = x_k - γ ∇f(x_k) ─────────────────\n",
    "x_next = sp.simplify(x_sym - gamma * grad_f)\n",
    "\n",
    "# ─── 수치적용: 초기값 및 학습률 ───────────────────────────\n",
    "x0 = sp.Matrix([-2, 1])\n",
    "gamma_val = 0.07\n",
    "\n",
    "x1 = x_next.subs({x1_sym: x0[0], x2_sym: x0[1], gamma: gamma_val})\n",
    "x2 = x_next.subs({x1_sym: x1[0], x2_sym: x1[1], gamma: gamma_val})\n",
    "\n",
    "# ─── 함수값 계산 ───────────────────────────────────────────\n",
    "f_x0 = f_sym.subs({x1_sym: x0[0], x2_sym: x0[1]})\n",
    "f_x1 = f_sym.subs({x1_sym: x1[0], x2_sym: x1[1]})\n",
    "f_x2 = f_sym.subs({x1_sym: x2[0], x2_sym: x2[1]})\n",
    "\n",
    "# ─── 결과 출력 ─────────────────────────────────────────────\n",
    "print(\"그래디언트 ∇f(x):\")\n",
    "sp.pprint(grad_f)\n",
    "print(\"\\n업데이트 식 x_{k+1} =\")\n",
    "sp.pprint(x_next)\n",
    "\n",
    "print(\"\\n--- 수치 결과 ---\")\n",
    "print(\"초기 위치 x0 =\", x0)\n",
    "print(\"x1 =\", sp.N(x1, 6))\n",
    "print(\"x2 =\", sp.N(x2, 6))\n",
    "print(f\"f(x0) = {sp.N(f_x0, 6)}\")\n",
    "print(f\"f(x1) = {sp.N(f_x1, 6)}\")\n",
    "print(f\"f(x2) = {sp.N(f_x2, 6)}\")\n"
   ]
  },
  {
   "cell_type": "code",
   "execution_count": null,
   "id": "5e94f4f5",
   "metadata": {},
   "outputs": [
    {
     "name": "stdout",
     "output_type": "stream",
     "text": [
      "### 문제 1: f(x) = 1/2 * xᵀQx - bᵀx ###\n",
      "============================================================\n",
      "1. Symbolic 분석 (수식 유도)\n",
      "------------------------------------------------------------\n",
      "그래디언트 ∇f(x):\n",
      "⎡3⋅x₁ + 2⋅x₂ - 4 ⎤\n",
      "⎢                ⎥\n",
      "⎣2⋅x₁ + 15⋅x₂ - 6⎦\n",
      "\n",
      "업데이트 식 x_{k+1}:\n",
      "⎡x₁ - γ⋅(3⋅x₁ + 2⋅x₂ - 4) ⎤\n",
      "⎢                         ⎥\n",
      "⎣x₂ - γ⋅(2⋅x₁ + 15⋅x₂ - 6)⎦\n",
      "\n",
      "============================================================\n",
      "2. Numeric 분석 (2회 반복)\n",
      "------------------------------------------------------------\n",
      "초기 위치 x0 = Matrix([[-2, 1]])\n",
      "x1 = Matrix([[-1.44000, 0.650000]]), f(x1) = 6.26715\n",
      "x2 = Matrix([[-0.948600, 0.589100]]), f(x2) = 3.09471\n",
      "------------------------------------------------------------\n",
      "분석 완료.\n",
      "============================================================\n",
      "\n",
      "\n"
     ]
    }
   ],
   "source": []
  },
  {
   "cell_type": "code",
   "execution_count": null,
   "id": "fa1d2ae2",
   "metadata": {},
   "outputs": [],
   "source": []
  }
 ],
 "metadata": {
  "kernelspec": {
   "display_name": "base",
   "language": "python",
   "name": "python3"
  },
  "language_info": {
   "codemirror_mode": {
    "name": "ipython",
    "version": 3
   },
   "file_extension": ".py",
   "mimetype": "text/x-python",
   "name": "python",
   "nbconvert_exporter": "python",
   "pygments_lexer": "ipython3",
   "version": "3.11.5"
  }
 },
 "nbformat": 4,
 "nbformat_minor": 5
}
