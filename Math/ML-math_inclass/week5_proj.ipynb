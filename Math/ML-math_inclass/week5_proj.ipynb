{
 "cells": [
  {
   "cell_type": "code",
   "execution_count": null,
   "metadata": {},
   "outputs": [
    {
     "name": "stdout",
     "output_type": "stream",
     "text": [
      "벡터 u = Matrix([[1], [1], [1]])\n",
      "벡터 v = Matrix([[1], [4], [1]]) \n",
      "\n",
      "proj_v(u) =\n"
     ]
    },
    {
     "data": {
      "text/latex": [
       "$\\displaystyle \\left[\\begin{matrix}\\frac{1}{3}\\\\\\frac{4}{3}\\\\\\frac{1}{3}\\end{matrix}\\right]$"
      ],
      "text/plain": [
       "⎡1/3⎤\n",
       "⎢   ⎥\n",
       "⎢4/3⎥\n",
       "⎢   ⎥\n",
       "⎣1/3⎦"
      ]
     },
     "metadata": {},
     "output_type": "display_data"
    },
    {
     "name": "stdout",
     "output_type": "stream",
     "text": [
      "소수 근사:\n"
     ]
    },
    {
     "data": {
      "text/latex": [
       "$\\displaystyle \\left[\\begin{matrix}0.333333333333333\\\\1.33333333333333\\\\0.333333333333333\\end{matrix}\\right]$"
      ],
      "text/plain": [
       "⎡0.333333333333333⎤\n",
       "⎢                 ⎥\n",
       "⎢1.33333333333333 ⎥\n",
       "⎢                 ⎥\n",
       "⎣0.333333333333333⎦"
      ]
     },
     "metadata": {},
     "output_type": "display_data"
    }
   ],
   "source": [
    "from sympy import Matrix, init_printing\n",
    "\n",
    "# 예쁜 LaTeX 스타일 출력\n",
    "init_printing()\n",
    "\n",
    "def proj(u: Matrix, v: Matrix) -> Matrix:\n",
    "    \"\"\"\n",
    "    u 벡터를 v 방향으로 사영한 벡터를 반환.\n",
    "    \n",
    "    proj_v(u) = (u·v)/(v·v) * v\n",
    "    \"\"\"\n",
    "    return (u.dot(v) / v.dot(v)) * v\n",
    "\n",
    "# ────────────────────────────────────────────────────────────────\n",
    "# 사용 예시\n",
    "u = Matrix([1,4,1])\n",
    "v = Matrix([1,1,1])\n",
    "\n",
    "print(\"벡터 u =\", u)\n",
    "print(\"벡터 v =\", v, \"\\n\")\n",
    "\n",
    "u_proj_v = proj(u, v)\n",
    "print(\"proj_v(u) =\")\n",
    "display(u_proj_v)\n",
    "\n",
    "# 필요하면 수치 근사도\n",
    "print(\"소수 근사:\")\n",
    "display(u_proj_v.evalf())\n",
    "\n"
   ]
  },
  {
   "cell_type": "code",
   "execution_count": null,
   "metadata": {},
   "outputs": [],
   "source": []
  }
 ],
 "metadata": {
  "kernelspec": {
   "display_name": "base",
   "language": "python",
   "name": "python3"
  },
  "language_info": {
   "codemirror_mode": {
    "name": "ipython",
    "version": 3
   },
   "file_extension": ".py",
   "mimetype": "text/x-python",
   "name": "python",
   "nbconvert_exporter": "python",
   "pygments_lexer": "ipython3",
   "version": "3.11.5"
  }
 },
 "nbformat": 4,
 "nbformat_minor": 2
}
