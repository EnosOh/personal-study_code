{
 "cells": [
  {
   "cell_type": "code",
   "execution_count": 1,
   "id": "8e005403",
   "metadata": {},
   "outputs": [
    {
     "name": "stdout",
     "output_type": "stream",
     "text": [
      "f(x1, x2) = x1**2*x2 + x1*x2**3\n",
      "∂f/∂x1 = 2*x1*x2 + x2**3\n",
      "∂f/∂x2 = x1**2 + 3*x1*x2**2\n",
      "Gradient ∇f = Matrix([[2*x1*x2 + x2**3, x1**2 + 3*x1*x2**2]])\n"
     ]
    }
   ],
   "source": [
    "import sympy as sp\n",
    "\n",
    "# 변수 정의\n",
    "x1, x2 = sp.symbols('x1 x2')\n",
    "\n",
    "# 함수 정의\n",
    "f = x1**2 * x2 + x1 * x2**3\n",
    "\n",
    "# 편미분\n",
    "df_dx1 = sp.diff(f, x1)\n",
    "df_dx2 = sp.diff(f, x2)\n",
    "\n",
    "# 그래디언트 벡터\n",
    "gradient = sp.Matrix([[df_dx1, df_dx2]])\n",
    "\n",
    "# 출력\n",
    "print(\"f(x1, x2) =\", f)\n",
    "print(\"∂f/∂x1 =\", df_dx1)\n",
    "print(\"∂f/∂x2 =\", df_dx2)\n",
    "print(\"Gradient ∇f =\", gradient)\n"
   ]
  },
  {
   "cell_type": "code",
   "execution_count": null,
   "id": "f5d52d17",
   "metadata": {},
   "outputs": [],
   "source": []
  }
 ],
 "metadata": {
  "kernelspec": {
   "display_name": "base",
   "language": "python",
   "name": "python3"
  },
  "language_info": {
   "codemirror_mode": {
    "name": "ipython",
    "version": 3
   },
   "file_extension": ".py",
   "mimetype": "text/x-python",
   "name": "python",
   "nbconvert_exporter": "python",
   "pygments_lexer": "ipython3",
   "version": "3.11.5"
  }
 },
 "nbformat": 4,
 "nbformat_minor": 5
}
