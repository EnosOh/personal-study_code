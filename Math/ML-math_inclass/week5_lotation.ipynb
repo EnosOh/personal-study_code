{
 "cells": [
  {
   "cell_type": "markdown",
   "metadata": {},
   "source": [
    "## 2D Rotation"
   ]
  },
  {
   "cell_type": "code",
   "execution_count": 4,
   "metadata": {},
   "outputs": [
    {
     "name": "stdout",
     "output_type": "stream",
     "text": [
      "입력 좌표:\n",
      "⎡1⎤\n",
      "⎢ ⎥\n",
      "⎣0⎦\n",
      "\n",
      "회전된 좌표:\n",
      "⎡√2⎤\n",
      "⎢──⎥\n",
      "⎢2 ⎥\n",
      "⎢  ⎥\n",
      "⎢√2⎥\n",
      "⎢──⎥\n",
      "⎣2 ⎦\n"
     ]
    },
    {
     "data": {
      "text/latex": [
       "$\\displaystyle \\left[\\begin{matrix}\\frac{\\sqrt{2}}{2}\\\\\\frac{\\sqrt{2}}{2}\\end{matrix}\\right]$"
      ],
      "text/plain": [
       "Matrix([\n",
       "[sqrt(2)/2],\n",
       "[sqrt(2)/2]])"
      ]
     },
     "execution_count": 4,
     "metadata": {},
     "output_type": "execute_result"
    }
   ],
   "source": [
    "from sympy import symbols, cos, sin, pi, Matrix, Rational, pprint\n",
    "\n",
    "def rotate_2d_sympy_exact(x_val, y_val, theta_deg_val):\n",
    "    \"\"\"\n",
    "    sympy로 기호적 2D 회전 (루트 포함 기호 유지)\n",
    "    \n",
    "    Parameters:\n",
    "        x_val, y_val : 숫자 (정수 또는 유리수 등) – 회전 전 좌표\n",
    "        theta_deg_val : 회전 각도 (도 단위)\n",
    "    \n",
    "    Returns:\n",
    "        회전된 좌표 (x', y') – 기호적 표현\n",
    "    \"\"\"\n",
    "    # 변수 및 각도 정의\n",
    "    theta_deg = Rational(theta_deg_val)\n",
    "    theta = theta_deg * pi / 180  # 도 → 라디안\n",
    "\n",
    "    # 회전 행렬\n",
    "    R = Matrix([\n",
    "        [cos(theta), -sin(theta)],\n",
    "        [sin(theta),  cos(theta)]\n",
    "    ])\n",
    "\n",
    "    # 원래 좌표 벡터\n",
    "    x, y = symbols('x y')\n",
    "    v = Matrix([x, y])\n",
    "    \n",
    "    # 회전 수행\n",
    "    v_rotated = R * v\n",
    "\n",
    "    # 입력 좌표 출력\n",
    "    print(\"입력 좌표:\")\n",
    "    pprint(Matrix([x_val, y_val]))\n",
    "\n",
    "    # 회전된 좌표 출력\n",
    "    print(\"\\n회전된 좌표:\")\n",
    "    v_substituted = v_rotated.subs({x: x_val, y: y_val})\n",
    "    pprint(v_substituted)\n",
    "\n",
    "    return v_substituted\n",
    "\n",
    "# 예제 실행\n",
    "rotate_2d_sympy_exact(1, 0, 45)\n"
   ]
  },
  {
   "cell_type": "markdown",
   "metadata": {},
   "source": [
    "## 3D Rotation"
   ]
  },
  {
   "cell_type": "code",
   "execution_count": 6,
   "metadata": {},
   "outputs": [],
   "source": [
    "from sympy import symbols, cos, sin, pi, Matrix, Rational, pprint\n",
    "\n",
    "def rotate_3d_sympy_exact(x_val, y_val, z_val, theta_deg_val, axis='z'):\n",
    "    \"\"\"\n",
    "    sympy를 이용한 3D 회전 (기호적 표현 유지, 루트 포함)\n",
    "    \n",
    "    Parameters:\n",
    "        x_val, y_val, z_val : 실수 입력 좌표\n",
    "        theta_deg_val : 회전 각도 (도)\n",
    "        axis : 회전 축 ('x', 'y', 'z')\n",
    "    \n",
    "    Returns:\n",
    "        회전된 좌표 (기호 표현)\n",
    "    \"\"\"\n",
    "    theta_deg = Rational(theta_deg_val)\n",
    "    theta = theta_deg * pi / 180  # 도 → 라디안\n",
    "\n",
    "    # 회전 행렬 정의\n",
    "    if axis == 'x':\n",
    "        R = Matrix([\n",
    "            [1, 0, 0],\n",
    "            [0, cos(theta), -sin(theta)],\n",
    "            [0, sin(theta),  cos(theta)]\n",
    "        ])\n",
    "    elif axis == 'y':\n",
    "        R = Matrix([\n",
    "            [cos(theta), 0, sin(theta)],\n",
    "            [0, 1, 0],\n",
    "            [-sin(theta), 0, cos(theta)]\n",
    "        ])\n",
    "    elif axis == 'z':\n",
    "        R = Matrix([\n",
    "            [cos(theta), -sin(theta), 0],\n",
    "            [sin(theta),  cos(theta), 0],\n",
    "            [0, 0, 1]\n",
    "        ])\n",
    "    else:\n",
    "        raise ValueError(\"axis는 'x', 'y', 또는 'z' 중 하나여야 합니다.\")\n",
    "\n",
    "    # 기호 벡터 정의\n",
    "    x, y, z = symbols('x y z')\n",
    "    v = Matrix([x, y, z])\n",
    "\n",
    "    # 회전 적용\n",
    "    v_rotated = R * v\n",
    "\n",
    "    # 입력 좌표 출력\n",
    "    print(\"입력 좌표:\")\n",
    "    pprint(Matrix([x_val, y_val, z_val]))\n",
    "\n",
    "    # 회전된 좌표 출력\n",
    "    print(f\"\\n'{axis}'축 기준 {theta_deg_val}도 회전 후 좌표:\")\n",
    "    v_substituted = v_rotated.subs({x: x_val, y: y_val, z: z_val})\n",
    "    pprint(v_substituted)\n",
    "\n",
    "    return v_substituted\n"
   ]
  },
  {
   "cell_type": "code",
   "execution_count": 8,
   "metadata": {},
   "outputs": [
    {
     "name": "stdout",
     "output_type": "stream",
     "text": [
      "입력 좌표:\n",
      "⎡1⎤\n",
      "⎢ ⎥\n",
      "⎢0⎥\n",
      "⎢ ⎥\n",
      "⎣0⎦\n",
      "\n",
      "'z'축 기준 45도 회전 후 좌표:\n",
      "⎡√2⎤\n",
      "⎢──⎥\n",
      "⎢2 ⎥\n",
      "⎢  ⎥\n",
      "⎢√2⎥\n",
      "⎢──⎥\n",
      "⎢2 ⎥\n",
      "⎢  ⎥\n",
      "⎣0 ⎦\n"
     ]
    },
    {
     "data": {
      "text/latex": [
       "$\\displaystyle \\left[\\begin{matrix}\\frac{\\sqrt{2}}{2}\\\\\\frac{\\sqrt{2}}{2}\\\\0\\end{matrix}\\right]$"
      ],
      "text/plain": [
       "Matrix([\n",
       "[sqrt(2)/2],\n",
       "[sqrt(2)/2],\n",
       "[        0]])"
      ]
     },
     "execution_count": 8,
     "metadata": {},
     "output_type": "execute_result"
    }
   ],
   "source": [
    "rotate_3d_sympy_exact(1, 0, 0, 45, axis='z')"
   ]
  },
  {
   "cell_type": "code",
   "execution_count": null,
   "metadata": {},
   "outputs": [],
   "source": []
  }
 ],
 "metadata": {
  "kernelspec": {
   "display_name": "Enos",
   "language": "python",
   "name": "python3"
  },
  "language_info": {
   "codemirror_mode": {
    "name": "ipython",
    "version": 3
   },
   "file_extension": ".py",
   "mimetype": "text/x-python",
   "name": "python",
   "nbconvert_exporter": "python",
   "pygments_lexer": "ipython3",
   "version": "3.9.19"
  }
 },
 "nbformat": 4,
 "nbformat_minor": 2
}
